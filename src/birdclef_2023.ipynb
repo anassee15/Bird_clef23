{
 "cells": [
  {
   "attachments": {},
   "cell_type": "markdown",
   "metadata": {},
   "source": [
    "# Bird Clef 2023 - Kaggle Competition"
   ]
  },
  {
   "cell_type": "markdown",
   "metadata": {},
   "source": [
    "### Members \n",
    "\n",
    "- Crevoiserat David\n",
    "- El boudiri Anasse"
   ]
  },
  {
   "cell_type": "markdown",
   "metadata": {},
   "source": [
    "### Import"
   ]
  },
  {
   "cell_type": "code",
   "execution_count": 1,
   "metadata": {},
   "outputs": [
    {
     "name": "stderr",
     "output_type": "stream",
     "text": [
      "/home/anasse/.local/share/virtualenvs/birdclef_2023-vuf4JCRr/lib/python3.10/site-packages/tqdm/auto.py:21: TqdmWarning: IProgress not found. Please update jupyter and ipywidgets. See https://ipywidgets.readthedocs.io/en/stable/user_install.html\n",
      "  from .autonotebook import tqdm as notebook_tqdm\n"
     ]
    }
   ],
   "source": [
    "# basic packages\n",
    "import os\n",
    "import json\n",
    "import pandas as pd\n",
    "import numpy as np\n",
    "\n",
    "# Visualization\n",
    "import matplotlib.pyplot as plt\n",
    "import plotly.express as px\n",
    "\n",
    "# Deep Learning framework\n",
    "import torch\n",
    "import torch.nn as nn\n",
    "import torch.optim as optim\n",
    "from torch.utils.data import Dataset, DataLoader\n",
    "\n",
    "# Audio processing\n",
    "import torchaudio\n",
    "import torchaudio.transforms as T\n",
    "import IPython.display as ipd\n",
    "\n",
    "# Image processing\n",
    "from PIL import Image\n",
    "import torchvision.transforms as transforms\n",
    "\n",
    "# Pre-trained image models\n",
    "import timm"
   ]
  },
  {
   "cell_type": "markdown",
   "metadata": {},
   "source": [
    "### Data"
   ]
  },
  {
   "cell_type": "code",
   "execution_count": 2,
   "metadata": {},
   "outputs": [],
   "source": [
    "DATA_PATH = os.path.join('..', 'data', 'birdclef-2023')\n",
    "TRAIN_PATH = os.path.join(DATA_PATH, 'train_audio_split')"
   ]
  },
  {
   "cell_type": "code",
   "execution_count": 3,
   "metadata": {},
   "outputs": [
    {
     "data": {
      "text/html": [
       "<div>\n",
       "<style scoped>\n",
       "    .dataframe tbody tr th:only-of-type {\n",
       "        vertical-align: middle;\n",
       "    }\n",
       "\n",
       "    .dataframe tbody tr th {\n",
       "        vertical-align: top;\n",
       "    }\n",
       "\n",
       "    .dataframe thead th {\n",
       "        text-align: right;\n",
       "    }\n",
       "</style>\n",
       "<table border=\"1\" class=\"dataframe\">\n",
       "  <thead>\n",
       "    <tr style=\"text-align: right;\">\n",
       "      <th></th>\n",
       "      <th>file_path</th>\n",
       "      <th>label</th>\n",
       "    </tr>\n",
       "  </thead>\n",
       "  <tbody>\n",
       "    <tr>\n",
       "      <th>0</th>\n",
       "      <td>../data/birdclef-2023/train_audio_split/trobou...</td>\n",
       "      <td>trobou1</td>\n",
       "    </tr>\n",
       "    <tr>\n",
       "      <th>1</th>\n",
       "      <td>../data/birdclef-2023/train_audio_split/trobou...</td>\n",
       "      <td>trobou1</td>\n",
       "    </tr>\n",
       "    <tr>\n",
       "      <th>2</th>\n",
       "      <td>../data/birdclef-2023/train_audio_split/trobou...</td>\n",
       "      <td>trobou1</td>\n",
       "    </tr>\n",
       "    <tr>\n",
       "      <th>3</th>\n",
       "      <td>../data/birdclef-2023/train_audio_split/trobou...</td>\n",
       "      <td>trobou1</td>\n",
       "    </tr>\n",
       "    <tr>\n",
       "      <th>4</th>\n",
       "      <td>../data/birdclef-2023/train_audio_split/trobou...</td>\n",
       "      <td>trobou1</td>\n",
       "    </tr>\n",
       "    <tr>\n",
       "      <th>...</th>\n",
       "      <td>...</td>\n",
       "      <td>...</td>\n",
       "    </tr>\n",
       "    <tr>\n",
       "      <th>130309</th>\n",
       "      <td>../data/birdclef-2023/train_audio_split/blhher...</td>\n",
       "      <td>blhher1</td>\n",
       "    </tr>\n",
       "    <tr>\n",
       "      <th>130310</th>\n",
       "      <td>../data/birdclef-2023/train_audio_split/blhher...</td>\n",
       "      <td>blhher1</td>\n",
       "    </tr>\n",
       "    <tr>\n",
       "      <th>130311</th>\n",
       "      <td>../data/birdclef-2023/train_audio_split/blhher...</td>\n",
       "      <td>blhher1</td>\n",
       "    </tr>\n",
       "    <tr>\n",
       "      <th>130312</th>\n",
       "      <td>../data/birdclef-2023/train_audio_split/blhher...</td>\n",
       "      <td>blhher1</td>\n",
       "    </tr>\n",
       "    <tr>\n",
       "      <th>130313</th>\n",
       "      <td>../data/birdclef-2023/train_audio_split/golher...</td>\n",
       "      <td>golher1</td>\n",
       "    </tr>\n",
       "  </tbody>\n",
       "</table>\n",
       "<p>130314 rows × 2 columns</p>\n",
       "</div>"
      ],
      "text/plain": [
       "                                                file_path    label\n",
       "0       ../data/birdclef-2023/train_audio_split/trobou...  trobou1\n",
       "1       ../data/birdclef-2023/train_audio_split/trobou...  trobou1\n",
       "2       ../data/birdclef-2023/train_audio_split/trobou...  trobou1\n",
       "3       ../data/birdclef-2023/train_audio_split/trobou...  trobou1\n",
       "4       ../data/birdclef-2023/train_audio_split/trobou...  trobou1\n",
       "...                                                   ...      ...\n",
       "130309  ../data/birdclef-2023/train_audio_split/blhher...  blhher1\n",
       "130310  ../data/birdclef-2023/train_audio_split/blhher...  blhher1\n",
       "130311  ../data/birdclef-2023/train_audio_split/blhher...  blhher1\n",
       "130312  ../data/birdclef-2023/train_audio_split/blhher...  blhher1\n",
       "130313  ../data/birdclef-2023/train_audio_split/golher...  golher1\n",
       "\n",
       "[130314 rows x 2 columns]"
      ]
     },
     "execution_count": 3,
     "metadata": {},
     "output_type": "execute_result"
    }
   ],
   "source": [
    "X = []\n",
    "y = []\n",
    "\n",
    "for dirname, _, filename in os.walk(TRAIN_PATH):\n",
    "    for file in filename:\n",
    "        X.append(os.path.join(dirname, file))\n",
    "        y.append(os.path.join(dirname, file).replace(TRAIN_PATH + os.sep, '').split(os.sep)[0])\n",
    "\n",
    "# create pandas dataframe\n",
    "df = pd.DataFrame({'file_path': X, 'label': y})\n",
    "df"
   ]
  },
  {
   "cell_type": "markdown",
   "metadata": {},
   "source": [
    "### Data Exploration"
   ]
  },
  {
   "cell_type": "markdown",
   "metadata": {},
   "source": [
    "- Example of a bird song"
   ]
  },
  {
   "cell_type": "code",
   "execution_count": 4,
   "metadata": {},
   "outputs": [
    {
     "data": {
      "image/png": "[encoded data removed]",
      "text/plain": [
       "<Figure size 2000x500 with 1 Axes>"
      ]
     },
     "metadata": {},
     "output_type": "display_data"
    }
   ],
   "source": [
    "audio, sr = torchaudio.load(df['file_path'][3])\n",
    "audio = audio\n",
    "plt.figure(figsize=(20, 5))\n",
    "plt.plot(audio.numpy()[0])\n",
    "plt.show()"
   ]
  },
  {
   "cell_type": "code",
   "execution_count": 5,
   "metadata": {},
   "outputs": [
    {
     "data": {
      "text/html": [
       "\n",
       "                <audio  controls=\"controls\" >\n",
       "                    <source src=\"data:audio/wav;base64,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\" type=\"audio/wav\" />\n",
       "                    Your browser does not support the audio element.\n",
       "                </audio>\n",
       "              "
      ],
      "text/plain": [
       "<IPython.lib.display.Audio object>"
      ]
     },
     "execution_count": 5,
     "metadata": {},
     "output_type": "execute_result"
    }
   ],
   "source": [
    "ipd.Audio(audio.numpy()[0], rate=32000)"
   ]
  },
  {
   "cell_type": "markdown",
   "metadata": {},
   "source": [
    "- Distribution"
   ]
  },
  {
   "cell_type": "code",
   "execution_count": 6,
   "metadata": {},
   "outputs": [
    {
     "data": {
      "application/vnd.plotly.v1+json": {
       "config": {
        "plotlyServerURL": "https://plot.ly"
       },
       "data": [
        {
         "alignmentgroup": "True",
         "hovertemplate": "label=%{x}<br>file_path=%{y}<extra></extra>",
         "legendgroup": "",
         "marker": {
          "color": "#636efa",
          "pattern": {
           "shape": ""
          }
         },
         "name": "",
         "offsetgroup": "",
         "orientation": "v",
         "showlegend": false,
         "textposition": "auto",
         "type": "bar",
         "x": [
          "thrnig1",
          "wlwwar",
          "eubeat1",
          "hoopoe",
          "combuz1",
          "cohmar1",
          "barswa",
          "eaywag1",
          "comsan",
          "combul2",
          "woosan",
          "rbsrob1",
          "blakit1",
          "grecor",
          "litegr",
          "somgre1",
          "gnbcam2",
          "rerswa1",
          "lawgol",
          "carcha1",
          "colsun2",
          "fotdro5",
          "categr",
          "wbrcha2",
          "abhori1",
          "tamdov1",
          "greegr",
          "ratcis1",
          "egygoo",
          "litswi1",
          "yertin1",
          "blbpuf2",
          "yewgre1",
          "reccuc1",
          "cibwar1",
          "tafpri1",
          "grewoo2",
          "laudov1",
          "vilwea1",
          "varsun2",
          "gyhbus1",
          "hadibi1",
          "bkctch1",
          "afpfly1",
          "spmthr1",
          "grbcam1",
          "rindov",
          "trobou1",
          "afrthr1",
          "afecuc1",
          "gobbun1",
          "chibat1",
          "wbswea1",
          "gargan",
          "btweye2",
          "afpwag1",
          "afrgos1",
          "yebapa1",
          "blacuc1",
          "piekin1",
          "moccha1",
          "yefcan",
          "sccsun2",
          "subbus1",
          "afghor1",
          "piecro1",
          "crohor1",
          "helgui",
          "klacuc1",
          "didcuc1",
          "eswdov1",
          "wookin1",
          "brubru1",
          "reedov1",
          "gyhspa1",
          "gabgos2",
          "bcbeat1",
          "carwoo1",
          "soufis1",
          "blacra1",
          "whbcou1",
          "ruegls1",
          "gbesta1",
          "pitwhy",
          "gycwar3",
          "sincis1",
          "blfbus1",
          "bawhor2",
          "afmdov1",
          "walsta1",
          "sichor1",
          "spwlap1",
          "reftin1",
          "brctch1",
          "amesun2",
          "reccor",
          "rebfir2",
          "slcbou1",
          "marsun2",
          "beasun2",
          "strher",
          "gyhkin1",
          "blaplo1",
          "yebbar1",
          "brwwar1",
          "kerspa2",
          "sltnig1",
          "spepig1",
          "yesbar1",
          "refcro1",
          "abythr1",
          "yebere1",
          "mouwag1",
          "scrcha1",
          "norcro1",
          "bswdov1",
          "broman1",
          "rebhor1",
          "scthon1",
          "butapa1",
          "whbwhe3",
          "crheag1",
          "meypar1",
          "strsee1",
          "supsta1",
          "darbar1",
          "blnmou1",
          "cabgre1",
          "brobab1",
          "spemou2",
          "nobfly1",
          "rewsta1",
          "rocmar2",
          "wfbeat1",
          "lessts1",
          "brican1",
          "quailf1",
          "bkfruw1",
          "afdfly1",
          "yebgre1",
          "chtapa3",
          "wtbeat1",
          "ndcsun2",
          "wbgbir1",
          "blhgon1",
          "soucit1",
          "afbfly1",
          "brosun1",
          "gryapa1",
          "reisee2",
          "gnhsun1",
          "norpuf1",
          "vimwea1",
          "loceag1",
          "norbro1",
          "slbgre1",
          "lesmaw1",
          "luebus1",
          "afrjac1",
          "norfis1",
          "affeag1",
          "sobfly1",
          "grywrw1",
          "blcapa2",
          "vibsta2",
          "chucis1",
          "libeat1",
          "grccra1",
          "grwpyt1",
          "reboxp1",
          "somtit4",
          "edcsun3",
          "yelbis1",
          "fatrav1",
          "bltori1",
          "bagwea1",
          "gyhneg1",
          "hamerk1",
          "whbtit5",
          "afrgrp1",
          "mabeat1",
          "yetgre1",
          "spewea1",
          "wheslf1",
          "ccbeat1",
          "squher1",
          "pygbat1",
          "hartur1",
          "yeccan1",
          "gybfis1",
          "litwea1",
          "nubwoo1",
          "blnwea1",
          "raybar1",
          "hipbab1",
          "abethr1",
          "whihel1",
          "blhher1",
          "palfly2",
          "mcptit1",
          "whbwea1",
          "huncis1",
          "macshr1",
          "yebduc1",
          "spfbar1",
          "yespet1",
          "brrwhe3",
          "whbcan1",
          "easmog1",
          "brcale1",
          "malkin1",
          "refwar2",
          "bltapa1",
          "blwlap1",
          "refbar2",
          "whcpri2",
          "fislov1",
          "bubwar2",
          "spfwea1",
          "dutdov1",
          "chewea1",
          "kvbsun1",
          "pabspa1",
          "gobwea1",
          "rehwea1",
          "hunsun2",
          "yenspu1",
          "rostur1",
          "whrshr1",
          "marsto1",
          "tacsun1",
          "equaka1",
          "afgfly1",
          "gytbar1",
          "chespa1",
          "shesta1",
          "whbcro2",
          "brcsta1",
          "purgre2",
          "stusta1",
          "bawman1",
          "augbuz1",
          "bltbar1",
          "blksaw1",
          "joygre1",
          "rufcha2",
          "witswa1",
          "sacibi2",
          "palpri1",
          "gobsta5",
          "fatwid1",
          "darter3",
          "yebsto1",
          "crefra2",
          "brcwea1",
          "lotcor1",
          "brtcha1",
          "dotbar1",
          "rehblu1",
          "whhsaw1",
          "lotlap1",
          "afpkin1",
          "whctur2",
          "golher1"
         ],
         "xaxis": "x",
         "y": [
          12084,
          6471,
          5958,
          4815,
          4744,
          3886,
          3611,
          3117,
          2884,
          2739,
          2469,
          2172,
          2170,
          1794,
          1699,
          1673,
          1483,
          1455,
          1418,
          1377,
          1362,
          1334,
          1330,
          1253,
          1063,
          1032,
          1007,
          988,
          964,
          897,
          883,
          819,
          806,
          798,
          781,
          762,
          757,
          746,
          731,
          698,
          694,
          692,
          690,
          680,
          678,
          668,
          648,
          624,
          616,
          601,
          593,
          573,
          556,
          556,
          515,
          515,
          506,
          504,
          502,
          498,
          484,
          483,
          469,
          459,
          445,
          442,
          439,
          421,
          420,
          418,
          416,
          415,
          412,
          400,
          392,
          388,
          379,
          378,
          370,
          360,
          352,
          346,
          341,
          336,
          328,
          326,
          325,
          321,
          319,
          316,
          314,
          314,
          311,
          306,
          285,
          280,
          280,
          278,
          261,
          260,
          258,
          258,
          257,
          256,
          247,
          246,
          242,
          240,
          238,
          231,
          225,
          222,
          214,
          212,
          209,
          208,
          207,
          207,
          205,
          205,
          204,
          200,
          199,
          198,
          193,
          193,
          193,
          189,
          189,
          186,
          185,
          177,
          176,
          170,
          169,
          168,
          165,
          164,
          159,
          156,
          154,
          154,
          150,
          142,
          138,
          138,
          138,
          136,
          136,
          135,
          134,
          134,
          131,
          129,
          126,
          124,
          122,
          122,
          122,
          121,
          120,
          118,
          118,
          117,
          115,
          114,
          114,
          112,
          109,
          106,
          102,
          101,
          100,
          100,
          100,
          97,
          96,
          96,
          95,
          94,
          93,
          91,
          91,
          89,
          87,
          87,
          87,
          85,
          80,
          80,
          80,
          79,
          78,
          77,
          75,
          74,
          72,
          68,
          67,
          67,
          66,
          66,
          65,
          65,
          64,
          64,
          62,
          61,
          61,
          60,
          58,
          58,
          57,
          57,
          54,
          52,
          52,
          49,
          47,
          46,
          42,
          41,
          38,
          37,
          37,
          37,
          35,
          33,
          33,
          32,
          32,
          31,
          31,
          31,
          31,
          30,
          30,
          30,
          29,
          29,
          29,
          29,
          28,
          28,
          25,
          22,
          20,
          19,
          18,
          17,
          15,
          14,
          10,
          8,
          7,
          6,
          5,
          5,
          4,
          2,
          2,
          1,
          1,
          1
         ],
         "yaxis": "y"
        }
       ],
       "layout": {
        "barmode": "relative",
        "legend": {
         "tracegroupgap": 0
        },
        "template": {
         "data": {
          "bar": [
           {
            "error_x": {
             "color": "#2a3f5f"
            },
            "error_y": {
             "color": "#2a3f5f"
            },
            "marker": {
             "line": {
              "color": "#E5ECF6",
              "width": 0.5
             },
             "pattern": {
              "fillmode": "overlay",
              "size": 10,
              "solidity": 0.2
             }
            },
            "type": "bar"
           }
          ],
          "barpolar": [
           {
            "marker": {
             "line": {
              "color": "#E5ECF6",
              "width": 0.5
             },
             "pattern": {
              "fillmode": "overlay",
              "size": 10,
              "solidity": 0.2
             }
            },
            "type": "barpolar"
           }
          ],
          "carpet": [
           {
            "aaxis": {
             "endlinecolor": "#2a3f5f",
             "gridcolor": "white",
             "linecolor": "white",
             "minorgridcolor": "white",
             "startlinecolor": "#2a3f5f"
            },
            "baxis": {
             "endlinecolor": "#2a3f5f",
             "gridcolor": "white",
             "linecolor": "white",
             "minorgridcolor": "white",
             "startlinecolor": "#2a3f5f"
            },
            "type": "carpet"
           }
          ],
          "choropleth": [
           {
            "colorbar": {
             "outlinewidth": 0,
             "ticks": ""
            },
            "type": "choropleth"
           }
          ],
          "contour": [
           {
            "colorbar": {
             "outlinewidth": 0,
             "ticks": ""
            },
            "colorscale": [
             [
              0,
              "#0d0887"
             ],
             [
              0.1111111111111111,
              "#46039f"
             ],
             [
              0.2222222222222222,
              "#7201a8"
             ],
             [
              0.3333333333333333,
              "#9c179e"
             ],
             [
              0.4444444444444444,
              "#bd3786"
             ],
             [
              0.5555555555555556,
              "#d8576b"
             ],
             [
              0.6666666666666666,
              "#ed7953"
             ],
             [
              0.7777777777777778,
              "#fb9f3a"
             ],
             [
              0.8888888888888888,
              "#fdca26"
             ],
             [
              1,
              "#f0f921"
             ]
            ],
            "type": "contour"
           }
          ],
          "contourcarpet": [
           {
            "colorbar": {
             "outlinewidth": 0,
             "ticks": ""
            },
            "type": "contourcarpet"
           }
          ],
          "heatmap": [
           {
            "colorbar": {
             "outlinewidth": 0,
             "ticks": ""
            },
            "colorscale": [
             [
              0,
              "#0d0887"
             ],
             [
              0.1111111111111111,
              "#46039f"
             ],
             [
              0.2222222222222222,
              "#7201a8"
             ],
             [
              0.3333333333333333,
              "#9c179e"
             ],
             [
              0.4444444444444444,
              "#bd3786"
             ],
             [
              0.5555555555555556,
              "#d8576b"
             ],
             [
              0.6666666666666666,
              "#ed7953"
             ],
             [
              0.7777777777777778,
              "#fb9f3a"
             ],
             [
              0.8888888888888888,
              "#fdca26"
             ],
             [
              1,
              "#f0f921"
             ]
            ],
            "type": "heatmap"
           }
          ],
          "heatmapgl": [
           {
            "colorbar": {
             "outlinewidth": 0,
             "ticks": ""
            },
            "colorscale": [
             [
              0,
              "#0d0887"
             ],
             [
              0.1111111111111111,
              "#46039f"
             ],
             [
              0.2222222222222222,
              "#7201a8"
             ],
             [
              0.3333333333333333,
              "#9c179e"
             ],
             [
              0.4444444444444444,
              "#bd3786"
             ],
             [
              0.5555555555555556,
              "#d8576b"
             ],
             [
              0.6666666666666666,
              "#ed7953"
             ],
             [
              0.7777777777777778,
              "#fb9f3a"
             ],
             [
              0.8888888888888888,
              "#fdca26"
             ],
             [
              1,
              "#f0f921"
             ]
            ],
            "type": "heatmapgl"
           }
          ],
          "histogram": [
           {
            "marker": {
             "pattern": {
              "fillmode": "overlay",
              "size": 10,
              "solidity": 0.2
             }
            },
            "type": "histogram"
           }
          ],
          "histogram2d": [
           {
            "colorbar": {
             "outlinewidth": 0,
             "ticks": ""
            },
            "colorscale": [
             [
              0,
              "#0d0887"
             ],
             [
              0.1111111111111111,
              "#46039f"
             ],
             [
              0.2222222222222222,
              "#7201a8"
             ],
             [
              0.3333333333333333,
              "#9c179e"
             ],
             [
              0.4444444444444444,
              "#bd3786"
             ],
             [
              0.5555555555555556,
              "#d8576b"
             ],
             [
              0.6666666666666666,
              "#ed7953"
             ],
             [
              0.7777777777777778,
              "#fb9f3a"
             ],
             [
              0.8888888888888888,
              "#fdca26"
             ],
             [
              1,
              "#f0f921"
             ]
            ],
            "type": "histogram2d"
           }
          ],
          "histogram2dcontour": [
           {
            "colorbar": {
             "outlinewidth": 0,
             "ticks": ""
            },
            "colorscale": [
             [
              0,
              "#0d0887"
             ],
             [
              0.1111111111111111,
              "#46039f"
             ],
             [
              0.2222222222222222,
              "#7201a8"
             ],
             [
              0.3333333333333333,
              "#9c179e"
             ],
             [
              0.4444444444444444,
              "#bd3786"
             ],
             [
              0.5555555555555556,
              "#d8576b"
             ],
             [
              0.6666666666666666,
              "#ed7953"
             ],
             [
              0.7777777777777778,
              "#fb9f3a"
             ],
             [
              0.8888888888888888,
              "#fdca26"
             ],
             [
              1,
              "#f0f921"
             ]
            ],
            "type": "histogram2dcontour"
           }
          ],
          "mesh3d": [
           {
            "colorbar": {
             "outlinewidth": 0,
             "ticks": ""
            },
            "type": "mesh3d"
           }
          ],
          "parcoords": [
           {
            "line": {
             "colorbar": {
              "outlinewidth": 0,
              "ticks": ""
             }
            },
            "type": "parcoords"
           }
          ],
          "pie": [
           {
            "automargin": true,
            "type": "pie"
           }
          ],
          "scatter": [
           {
            "fillpattern": {
             "fillmode": "overlay",
             "size": 10,
             "solidity": 0.2
            },
            "type": "scatter"
           }
          ],
          "scatter3d": [
           {
            "line": {
             "colorbar": {
              "outlinewidth": 0,
              "ticks": ""
             }
            },
            "marker": {
             "colorbar": {
              "outlinewidth": 0,
              "ticks": ""
             }
            },
            "type": "scatter3d"
           }
          ],
          "scattercarpet": [
           {
            "marker": {
             "colorbar": {
              "outlinewidth": 0,
              "ticks": ""
             }
            },
            "type": "scattercarpet"
           }
          ],
          "scattergeo": [
           {
            "marker": {
             "colorbar": {
              "outlinewidth": 0,
              "ticks": ""
             }
            },
            "type": "scattergeo"
           }
          ],
          "scattergl": [
           {
            "marker": {
             "colorbar": {
              "outlinewidth": 0,
              "ticks": ""
             }
            },
            "type": "scattergl"
           }
          ],
          "scattermapbox": [
           {
            "marker": {
             "colorbar": {
              "outlinewidth": 0,
              "ticks": ""
             }
            },
            "type": "scattermapbox"
           }
          ],
          "scatterpolar": [
           {
            "marker": {
             "colorbar": {
              "outlinewidth": 0,
              "ticks": ""
             }
            },
            "type": "scatterpolar"
           }
          ],
          "scatterpolargl": [
           {
            "marker": {
             "colorbar": {
              "outlinewidth": 0,
              "ticks": ""
             }
            },
            "type": "scatterpolargl"
           }
          ],
          "scatterternary": [
           {
            "marker": {
             "colorbar": {
              "outlinewidth": 0,
              "ticks": ""
             }
            },
            "type": "scatterternary"
           }
          ],
          "surface": [
           {
            "colorbar": {
             "outlinewidth": 0,
             "ticks": ""
            },
            "colorscale": [
             [
              0,
              "#0d0887"
             ],
             [
              0.1111111111111111,
              "#46039f"
             ],
             [
              0.2222222222222222,
              "#7201a8"
             ],
             [
              0.3333333333333333,
              "#9c179e"
             ],
             [
              0.4444444444444444,
              "#bd3786"
             ],
             [
              0.5555555555555556,
              "#d8576b"
             ],
             [
              0.6666666666666666,
              "#ed7953"
             ],
             [
              0.7777777777777778,
              "#fb9f3a"
             ],
             [
              0.8888888888888888,
              "#fdca26"
             ],
             [
              1,
              "#f0f921"
             ]
            ],
            "type": "surface"
           }
          ],
          "table": [
           {
            "cells": {
             "fill": {
              "color": "#EBF0F8"
             },
             "line": {
              "color": "white"
             }
            },
            "header": {
             "fill": {
              "color": "#C8D4E3"
             },
             "line": {
              "color": "white"
             }
            },
            "type": "table"
           }
          ]
         },
         "layout": {
          "annotationdefaults": {
           "arrowcolor": "#2a3f5f",
           "arrowhead": 0,
           "arrowwidth": 1
          },
          "autotypenumbers": "strict",
          "coloraxis": {
           "colorbar": {
            "outlinewidth": 0,
            "ticks": ""
           }
          },
          "colorscale": {
           "diverging": [
            [
             0,
             "#8e0152"
            ],
            [
             0.1,
             "#c51b7d"
            ],
            [
             0.2,
             "#de77ae"
            ],
            [
             0.3,
             "#f1b6da"
            ],
            [
             0.4,
             "#fde0ef"
            ],
            [
             0.5,
             "#f7f7f7"
            ],
            [
             0.6,
             "#e6f5d0"
            ],
            [
             0.7,
             "#b8e186"
            ],
            [
             0.8,
             "#7fbc41"
            ],
            [
             0.9,
             "#4d9221"
            ],
            [
             1,
             "#276419"
            ]
           ],
           "sequential": [
            [
             0,
             "#0d0887"
            ],
            [
             0.1111111111111111,
             "#46039f"
            ],
            [
             0.2222222222222222,
             "#7201a8"
            ],
            [
             0.3333333333333333,
             "#9c179e"
            ],
            [
             0.4444444444444444,
             "#bd3786"
            ],
            [
             0.5555555555555556,
             "#d8576b"
            ],
            [
             0.6666666666666666,
             "#ed7953"
            ],
            [
             0.7777777777777778,
             "#fb9f3a"
            ],
            [
             0.8888888888888888,
             "#fdca26"
            ],
            [
             1,
             "#f0f921"
            ]
           ],
           "sequentialminus": [
            [
             0,
             "#0d0887"
            ],
            [
             0.1111111111111111,
             "#46039f"
            ],
            [
             0.2222222222222222,
             "#7201a8"
            ],
            [
             0.3333333333333333,
             "#9c179e"
            ],
            [
             0.4444444444444444,
             "#bd3786"
            ],
            [
             0.5555555555555556,
             "#d8576b"
            ],
            [
             0.6666666666666666,
             "#ed7953"
            ],
            [
             0.7777777777777778,
             "#fb9f3a"
            ],
            [
             0.8888888888888888,
             "#fdca26"
            ],
            [
             1,
             "#f0f921"
            ]
           ]
          },
          "colorway": [
           "#636efa",
           "#EF553B",
           "#00cc96",
           "#ab63fa",
           "#FFA15A",
           "#19d3f3",
           "#FF6692",
           "#B6E880",
           "#FF97FF",
           "#FECB52"
          ],
          "font": {
           "color": "#2a3f5f"
          },
          "geo": {
           "bgcolor": "white",
           "lakecolor": "white",
           "landcolor": "#E5ECF6",
           "showlakes": true,
           "showland": true,
           "subunitcolor": "white"
          },
          "hoverlabel": {
           "align": "left"
          },
          "hovermode": "closest",
          "mapbox": {
           "style": "light"
          },
          "paper_bgcolor": "white",
          "plot_bgcolor": "#E5ECF6",
          "polar": {
           "angularaxis": {
            "gridcolor": "white",
            "linecolor": "white",
            "ticks": ""
           },
           "bgcolor": "#E5ECF6",
           "radialaxis": {
            "gridcolor": "white",
            "linecolor": "white",
            "ticks": ""
           }
          },
          "scene": {
           "xaxis": {
            "backgroundcolor": "#E5ECF6",
            "gridcolor": "white",
            "gridwidth": 2,
            "linecolor": "white",
            "showbackground": true,
            "ticks": "",
            "zerolinecolor": "white"
           },
           "yaxis": {
            "backgroundcolor": "#E5ECF6",
            "gridcolor": "white",
            "gridwidth": 2,
            "linecolor": "white",
            "showbackground": true,
            "ticks": "",
            "zerolinecolor": "white"
           },
           "zaxis": {
            "backgroundcolor": "#E5ECF6",
            "gridcolor": "white",
            "gridwidth": 2,
            "linecolor": "white",
            "showbackground": true,
            "ticks": "",
            "zerolinecolor": "white"
           }
          },
          "shapedefaults": {
           "line": {
            "color": "#2a3f5f"
           }
          },
          "ternary": {
           "aaxis": {
            "gridcolor": "white",
            "linecolor": "white",
            "ticks": ""
           },
           "baxis": {
            "gridcolor": "white",
            "linecolor": "white",
            "ticks": ""
           },
           "bgcolor": "#E5ECF6",
           "caxis": {
            "gridcolor": "white",
            "linecolor": "white",
            "ticks": ""
           }
          },
          "title": {
           "x": 0.05
          },
          "xaxis": {
           "automargin": true,
           "gridcolor": "white",
           "linecolor": "white",
           "ticks": "",
           "title": {
            "standoff": 15
           },
           "zerolinecolor": "white",
           "zerolinewidth": 2
          },
          "yaxis": {
           "automargin": true,
           "gridcolor": "white",
           "linecolor": "white",
           "ticks": "",
           "title": {
            "standoff": 15
           },
           "zerolinecolor": "white",
           "zerolinewidth": 2
          }
         }
        },
        "title": {
         "text": "Number of audio files per label"
        },
        "xaxis": {
         "anchor": "y",
         "domain": [
          0,
          1
         ],
         "title": {
          "text": "label"
         }
        },
        "yaxis": {
         "anchor": "x",
         "domain": [
          0,
          1
         ],
         "title": {
          "text": "file_path"
         }
        }
       }
      }
     },
     "metadata": {},
     "output_type": "display_data"
    }
   ],
   "source": [
    "groupby_label = df.groupby('label').count().reset_index().sort_values(by='file_path', ascending=False)\n",
    "# plot with plotly\n",
    "fig = px.bar(groupby_label, x='label', y='file_path', title='Number of audio files per label')\n",
    "fig.show()"
   ]
  },
  {
   "attachments": {},
   "cell_type": "markdown",
   "metadata": {},
   "source": [
    "We observe that the distribution of the data is not balanced. We need to take this into account and try to fix it."
   ]
  },
  {
   "cell_type": "code",
   "execution_count": 7,
   "metadata": {},
   "outputs": [],
   "source": [
    "def remove_overrepresented_label(df, label, size=0.5):\n",
    "    df_label = df.loc[df[\"label\"] == label]\n",
    "    half_size = int(len(df_label) * size)\n",
    "    df_label_sampled = df_label.sample(n=half_size)\n",
    "    return df.drop(df_label_sampled.index)"
   ]
  },
  {
   "cell_type": "code",
   "execution_count": 8,
   "metadata": {},
   "outputs": [],
   "source": [
    "def augment_underrepresented_label(df, label, size=2):\n",
    "    df_label = df[df[\"label\"] == label]\n",
    "    num_samples = int(size * len(df_label) - len(df_label))\n",
    "    df_oversampled = df_label.sample(n=num_samples, replace=True)\n",
    "    df_augmented = pd.concat([df, df_oversampled], ignore_index=True)\n",
    "    return df_augmented"
   ]
  },
  {
   "cell_type": "code",
   "execution_count": 9,
   "metadata": {},
   "outputs": [
    {
     "name": "stdout",
     "output_type": "stream",
     "text": [
      "Number of rows before removal : 130314\n",
      "Number of rows after removal : 124272\n"
     ]
    }
   ],
   "source": [
    "print(f'Number of rows before removal : {len(df)}')\n",
    "label_to_remove = groupby_label[groupby_label['file_path'] > 10000]['label'].values\n",
    "\n",
    "for label in label_to_remove:\n",
    "    df = remove_overrepresented_label(df, label)\n",
    "\n",
    "print(f'Number of rows after removal : {len(df)}')"
   ]
  },
  {
   "cell_type": "code",
   "execution_count": 10,
   "metadata": {},
   "outputs": [
    {
     "name": "stdout",
     "output_type": "stream",
     "text": [
      "Number of rows before augment : 124272\n",
      "Number of rows after augment : 128800\n"
     ]
    }
   ],
   "source": [
    "print(f'Number of rows before augment : {len(df)}')\n",
    "label_to_augment = groupby_label[groupby_label['file_path'] < 25]['label'].values\n",
    "\n",
    "for label in label_to_augment:\n",
    "    df = augment_underrepresented_label(df, label, size=4)\n",
    "\n",
    "label_to_augment = groupby_label[groupby_label['file_path'] < 50]['label'].values\n",
    "\n",
    "for label in label_to_augment:\n",
    "    df = augment_underrepresented_label(df, label, size=2)\n",
    "\n",
    "label_to_augment = groupby_label[groupby_label['file_path'] < 75]['label'].values\n",
    "\n",
    "for label in label_to_augment:\n",
    "    df = augment_underrepresented_label(df, label, size=1.5)\n",
    "\n",
    "print(f'Number of rows after augment : {len(df)}')"
   ]
  },
  {
   "cell_type": "code",
   "execution_count": 11,
   "metadata": {},
   "outputs": [
    {
     "data": {
      "application/vnd.plotly.v1+json": {
       "config": {
        "plotlyServerURL": "https://plot.ly"
       },
       "data": [
        {
         "alignmentgroup": "True",
         "hovertemplate": "label=%{x}<br>file_path=%{y}<extra></extra>",
         "legendgroup": "",
         "marker": {
          "color": "#636efa",
          "pattern": {
           "shape": ""
          }
         },
         "name": "",
         "offsetgroup": "",
         "orientation": "v",
         "showlegend": false,
         "textposition": "auto",
         "type": "bar",
         "x": [
          "wlwwar",
          "thrnig1",
          "eubeat1",
          "hoopoe",
          "combuz1",
          "cohmar1",
          "barswa",
          "eaywag1",
          "comsan",
          "combul2",
          "woosan",
          "rbsrob1",
          "blakit1",
          "grecor",
          "litegr",
          "somgre1",
          "gnbcam2",
          "rerswa1",
          "lawgol",
          "carcha1",
          "colsun2",
          "fotdro5",
          "categr",
          "wbrcha2",
          "abhori1",
          "tamdov1",
          "greegr",
          "ratcis1",
          "egygoo",
          "litswi1",
          "yertin1",
          "blbpuf2",
          "yewgre1",
          "reccuc1",
          "cibwar1",
          "tafpri1",
          "grewoo2",
          "laudov1",
          "vilwea1",
          "varsun2",
          "gyhbus1",
          "hadibi1",
          "bkctch1",
          "afpfly1",
          "spmthr1",
          "grbcam1",
          "rindov",
          "trobou1",
          "afrthr1",
          "afecuc1",
          "gobbun1",
          "chibat1",
          "gargan",
          "wbswea1",
          "afpwag1",
          "btweye2",
          "afrgos1",
          "yebapa1",
          "blacuc1",
          "piekin1",
          "moccha1",
          "yefcan",
          "sccsun2",
          "subbus1",
          "afghor1",
          "piecro1",
          "crohor1",
          "helgui",
          "klacuc1",
          "didcuc1",
          "eswdov1",
          "wookin1",
          "brubru1",
          "reedov1",
          "gyhspa1",
          "gabgos2",
          "bcbeat1",
          "carwoo1",
          "soufis1",
          "blacra1",
          "whbcou1",
          "ruegls1",
          "gbesta1",
          "pitwhy",
          "gycwar3",
          "sincis1",
          "blfbus1",
          "bawhor2",
          "afmdov1",
          "walsta1",
          "spwlap1",
          "sichor1",
          "reftin1",
          "brctch1",
          "amesun2",
          "rebfir2",
          "reccor",
          "slcbou1",
          "rufcha2",
          "marsun2",
          "beasun2",
          "gyhkin1",
          "strher",
          "blaplo1",
          "yebbar1",
          "brwwar1",
          "kerspa2",
          "sltnig1",
          "spepig1",
          "witswa1",
          "yesbar1",
          "refcro1",
          "sacibi2",
          "abythr1",
          "yebere1",
          "palpri1",
          "mouwag1",
          "scrcha1",
          "norcro1",
          "bswdov1",
          "broman1",
          "rebhor1",
          "scthon1",
          "butapa1",
          "gobsta5",
          "whbwhe3",
          "crheag1",
          "meypar1",
          "strsee1",
          "supsta1",
          "darbar1",
          "blnmou1",
          "cabgre1",
          "brobab1",
          "spemou2",
          "nobfly1",
          "fatwid1",
          "rewsta1",
          "rocmar2",
          "wfbeat1",
          "lessts1",
          "brican1",
          "darter3",
          "quailf1",
          "bkfruw1",
          "afdfly1",
          "yebgre1",
          "wtbeat1",
          "chtapa3",
          "ndcsun2",
          "bubwar2",
          "wbgbir1",
          "spfwea1",
          "afbfly1",
          "dutdov1",
          "soucit1",
          "blhgon1",
          "brosun1",
          "gryapa1",
          "reisee2",
          "norpuf1",
          "gnhsun1",
          "vimwea1",
          "loceag1",
          "norbro1",
          "chewea1",
          "slbgre1",
          "kvbsun1",
          "lesmaw1",
          "afrjac1",
          "luebus1",
          "norfis1",
          "affeag1",
          "yebsto1",
          "sobfly1",
          "grywrw1",
          "blcapa2",
          "vibsta2",
          "libeat1",
          "chucis1",
          "pabspa1",
          "grccra1",
          "gobwea1",
          "abethr1",
          "rehwea1",
          "hunsun2",
          "grwpyt1",
          "whihel1",
          "reboxp1",
          "yenspu1",
          "blhher1",
          "somtit4",
          "edcsun3",
          "palfly2",
          "fatrav1",
          "mcptit1",
          "yelbis1",
          "bltori1",
          "whbwea1",
          "huncis1",
          "whrshr1",
          "rostur1",
          "macshr1",
          "yebduc1",
          "bagwea1",
          "tacsun1",
          "yespet1",
          "gyhneg1",
          "spfbar1",
          "hamerk1",
          "marsto1",
          "crefra2",
          "whbtit5",
          "afrgrp1",
          "brrwhe3",
          "chespa1",
          "equaka1",
          "gytbar1",
          "mabeat1",
          "afgfly1",
          "yetgre1",
          "easmog1",
          "whbcan1",
          "spewea1",
          "whbcro2",
          "shesta1",
          "brcale1",
          "brcsta1",
          "wheslf1",
          "purgre2",
          "augbuz1",
          "stusta1",
          "bawman1",
          "refwar2",
          "squher1",
          "pygbat1",
          "malkin1",
          "ccbeat1",
          "bltapa1",
          "hartur1",
          "blwlap1",
          "blksaw1",
          "bltbar1",
          "brcwea1",
          "refbar2",
          "gybfis1",
          "yeccan1",
          "litwea1",
          "nubwoo1",
          "whcpri2",
          "fislov1",
          "blnwea1",
          "raybar1",
          "hipbab1",
          "joygre1",
          "lotcor1",
          "brtcha1",
          "dotbar1",
          "rehblu1",
          "whhsaw1",
          "lotlap1",
          "whctur2",
          "afpkin1",
          "golher1"
         ],
         "xaxis": "x",
         "y": [
          6471,
          6042,
          5958,
          4815,
          4744,
          3886,
          3611,
          3117,
          2884,
          2739,
          2469,
          2172,
          2170,
          1794,
          1699,
          1673,
          1483,
          1455,
          1418,
          1377,
          1362,
          1334,
          1330,
          1253,
          1063,
          1032,
          1007,
          988,
          964,
          897,
          883,
          819,
          806,
          798,
          781,
          762,
          757,
          746,
          731,
          698,
          694,
          692,
          690,
          680,
          678,
          668,
          648,
          624,
          616,
          601,
          593,
          573,
          556,
          556,
          515,
          515,
          506,
          504,
          502,
          498,
          484,
          483,
          469,
          459,
          445,
          442,
          439,
          421,
          420,
          418,
          416,
          415,
          412,
          400,
          392,
          388,
          379,
          378,
          370,
          360,
          352,
          346,
          341,
          336,
          328,
          326,
          325,
          321,
          319,
          316,
          314,
          314,
          311,
          306,
          285,
          280,
          280,
          278,
          264,
          261,
          260,
          258,
          258,
          257,
          256,
          247,
          246,
          242,
          240,
          240,
          238,
          231,
          228,
          225,
          222,
          216,
          214,
          212,
          209,
          208,
          207,
          207,
          205,
          205,
          204,
          204,
          200,
          199,
          198,
          193,
          193,
          193,
          189,
          189,
          186,
          185,
          180,
          177,
          176,
          170,
          169,
          168,
          168,
          165,
          164,
          159,
          156,
          154,
          154,
          150,
          147,
          142,
          141,
          138,
          138,
          138,
          138,
          136,
          136,
          135,
          134,
          134,
          131,
          129,
          126,
          126,
          124,
          123,
          122,
          122,
          122,
          121,
          120,
          120,
          118,
          118,
          117,
          115,
          114,
          114,
          114,
          112,
          111,
          111,
          111,
          111,
          109,
          108,
          106,
          105,
          102,
          102,
          101,
          100,
          100,
          100,
          100,
          100,
          99,
          99,
          99,
          99,
          97,
          97,
          97,
          96,
          96,
          96,
          96,
          96,
          96,
          96,
          95,
          94,
          93,
          93,
          93,
          93,
          93,
          93,
          91,
          91,
          91,
          91,
          90,
          90,
          90,
          90,
          89,
          87,
          87,
          87,
          87,
          87,
          87,
          87,
          87,
          87,
          85,
          85,
          85,
          84,
          84,
          84,
          81,
          80,
          80,
          80,
          79,
          78,
          78,
          78,
          77,
          75,
          75,
          72,
          60,
          60,
          48,
          24,
          24,
          12,
          12,
          12
         ],
         "yaxis": "y"
        }
       ],
       "layout": {
        "barmode": "relative",
        "legend": {
         "tracegroupgap": 0
        },
        "template": {
         "data": {
          "bar": [
           {
            "error_x": {
             "color": "#2a3f5f"
            },
            "error_y": {
             "color": "#2a3f5f"
            },
            "marker": {
             "line": {
              "color": "#E5ECF6",
              "width": 0.5
             },
             "pattern": {
              "fillmode": "overlay",
              "size": 10,
              "solidity": 0.2
             }
            },
            "type": "bar"
           }
          ],
          "barpolar": [
           {
            "marker": {
             "line": {
              "color": "#E5ECF6",
              "width": 0.5
             },
             "pattern": {
              "fillmode": "overlay",
              "size": 10,
              "solidity": 0.2
             }
            },
            "type": "barpolar"
           }
          ],
          "carpet": [
           {
            "aaxis": {
             "endlinecolor": "#2a3f5f",
             "gridcolor": "white",
             "linecolor": "white",
             "minorgridcolor": "white",
             "startlinecolor": "#2a3f5f"
            },
            "baxis": {
             "endlinecolor": "#2a3f5f",
             "gridcolor": "white",
             "linecolor": "white",
             "minorgridcolor": "white",
             "startlinecolor": "#2a3f5f"
            },
            "type": "carpet"
           }
          ],
          "choropleth": [
           {
            "colorbar": {
             "outlinewidth": 0,
             "ticks": ""
            },
            "type": "choropleth"
           }
          ],
          "contour": [
           {
            "colorbar": {
             "outlinewidth": 0,
             "ticks": ""
            },
            "colorscale": [
             [
              0,
              "#0d0887"
             ],
             [
              0.1111111111111111,
              "#46039f"
             ],
             [
              0.2222222222222222,
              "#7201a8"
             ],
             [
              0.3333333333333333,
              "#9c179e"
             ],
             [
              0.4444444444444444,
              "#bd3786"
             ],
             [
              0.5555555555555556,
              "#d8576b"
             ],
             [
              0.6666666666666666,
              "#ed7953"
             ],
             [
              0.7777777777777778,
              "#fb9f3a"
             ],
             [
              0.8888888888888888,
              "#fdca26"
             ],
             [
              1,
              "#f0f921"
             ]
            ],
            "type": "contour"
           }
          ],
          "contourcarpet": [
           {
            "colorbar": {
             "outlinewidth": 0,
             "ticks": ""
            },
            "type": "contourcarpet"
           }
          ],
          "heatmap": [
           {
            "colorbar": {
             "outlinewidth": 0,
             "ticks": ""
            },
            "colorscale": [
             [
              0,
              "#0d0887"
             ],
             [
              0.1111111111111111,
              "#46039f"
             ],
             [
              0.2222222222222222,
              "#7201a8"
             ],
             [
              0.3333333333333333,
              "#9c179e"
             ],
             [
              0.4444444444444444,
              "#bd3786"
             ],
             [
              0.5555555555555556,
              "#d8576b"
             ],
             [
              0.6666666666666666,
              "#ed7953"
             ],
             [
              0.7777777777777778,
              "#fb9f3a"
             ],
             [
              0.8888888888888888,
              "#fdca26"
             ],
             [
              1,
              "#f0f921"
             ]
            ],
            "type": "heatmap"
           }
          ],
          "heatmapgl": [
           {
            "colorbar": {
             "outlinewidth": 0,
             "ticks": ""
            },
            "colorscale": [
             [
              0,
              "#0d0887"
             ],
             [
              0.1111111111111111,
              "#46039f"
             ],
             [
              0.2222222222222222,
              "#7201a8"
             ],
             [
              0.3333333333333333,
              "#9c179e"
             ],
             [
              0.4444444444444444,
              "#bd3786"
             ],
             [
              0.5555555555555556,
              "#d8576b"
             ],
             [
              0.6666666666666666,
              "#ed7953"
             ],
             [
              0.7777777777777778,
              "#fb9f3a"
             ],
             [
              0.8888888888888888,
              "#fdca26"
             ],
             [
              1,
              "#f0f921"
             ]
            ],
            "type": "heatmapgl"
           }
          ],
          "histogram": [
           {
            "marker": {
             "pattern": {
              "fillmode": "overlay",
              "size": 10,
              "solidity": 0.2
             }
            },
            "type": "histogram"
           }
          ],
          "histogram2d": [
           {
            "colorbar": {
             "outlinewidth": 0,
             "ticks": ""
            },
            "colorscale": [
             [
              0,
              "#0d0887"
             ],
             [
              0.1111111111111111,
              "#46039f"
             ],
             [
              0.2222222222222222,
              "#7201a8"
             ],
             [
              0.3333333333333333,
              "#9c179e"
             ],
             [
              0.4444444444444444,
              "#bd3786"
             ],
             [
              0.5555555555555556,
              "#d8576b"
             ],
             [
              0.6666666666666666,
              "#ed7953"
             ],
             [
              0.7777777777777778,
              "#fb9f3a"
             ],
             [
              0.8888888888888888,
              "#fdca26"
             ],
             [
              1,
              "#f0f921"
             ]
            ],
            "type": "histogram2d"
           }
          ],
          "histogram2dcontour": [
           {
            "colorbar": {
             "outlinewidth": 0,
             "ticks": ""
            },
            "colorscale": [
             [
              0,
              "#0d0887"
             ],
             [
              0.1111111111111111,
              "#46039f"
             ],
             [
              0.2222222222222222,
              "#7201a8"
             ],
             [
              0.3333333333333333,
              "#9c179e"
             ],
             [
              0.4444444444444444,
              "#bd3786"
             ],
             [
              0.5555555555555556,
              "#d8576b"
             ],
             [
              0.6666666666666666,
              "#ed7953"
             ],
             [
              0.7777777777777778,
              "#fb9f3a"
             ],
             [
              0.8888888888888888,
              "#fdca26"
             ],
             [
              1,
              "#f0f921"
             ]
            ],
            "type": "histogram2dcontour"
           }
          ],
          "mesh3d": [
           {
            "colorbar": {
             "outlinewidth": 0,
             "ticks": ""
            },
            "type": "mesh3d"
           }
          ],
          "parcoords": [
           {
            "line": {
             "colorbar": {
              "outlinewidth": 0,
              "ticks": ""
             }
            },
            "type": "parcoords"
           }
          ],
          "pie": [
           {
            "automargin": true,
            "type": "pie"
           }
          ],
          "scatter": [
           {
            "fillpattern": {
             "fillmode": "overlay",
             "size": 10,
             "solidity": 0.2
            },
            "type": "scatter"
           }
          ],
          "scatter3d": [
           {
            "line": {
             "colorbar": {
              "outlinewidth": 0,
              "ticks": ""
             }
            },
            "marker": {
             "colorbar": {
              "outlinewidth": 0,
              "ticks": ""
             }
            },
            "type": "scatter3d"
           }
          ],
          "scattercarpet": [
           {
            "marker": {
             "colorbar": {
              "outlinewidth": 0,
              "ticks": ""
             }
            },
            "type": "scattercarpet"
           }
          ],
          "scattergeo": [
           {
            "marker": {
             "colorbar": {
              "outlinewidth": 0,
              "ticks": ""
             }
            },
            "type": "scattergeo"
           }
          ],
          "scattergl": [
           {
            "marker": {
             "colorbar": {
              "outlinewidth": 0,
              "ticks": ""
             }
            },
            "type": "scattergl"
           }
          ],
          "scattermapbox": [
           {
            "marker": {
             "colorbar": {
              "outlinewidth": 0,
              "ticks": ""
             }
            },
            "type": "scattermapbox"
           }
          ],
          "scatterpolar": [
           {
            "marker": {
             "colorbar": {
              "outlinewidth": 0,
              "ticks": ""
             }
            },
            "type": "scatterpolar"
           }
          ],
          "scatterpolargl": [
           {
            "marker": {
             "colorbar": {
              "outlinewidth": 0,
              "ticks": ""
             }
            },
            "type": "scatterpolargl"
           }
          ],
          "scatterternary": [
           {
            "marker": {
             "colorbar": {
              "outlinewidth": 0,
              "ticks": ""
             }
            },
            "type": "scatterternary"
           }
          ],
          "surface": [
           {
            "colorbar": {
             "outlinewidth": 0,
             "ticks": ""
            },
            "colorscale": [
             [
              0,
              "#0d0887"
             ],
             [
              0.1111111111111111,
              "#46039f"
             ],
             [
              0.2222222222222222,
              "#7201a8"
             ],
             [
              0.3333333333333333,
              "#9c179e"
             ],
             [
              0.4444444444444444,
              "#bd3786"
             ],
             [
              0.5555555555555556,
              "#d8576b"
             ],
             [
              0.6666666666666666,
              "#ed7953"
             ],
             [
              0.7777777777777778,
              "#fb9f3a"
             ],
             [
              0.8888888888888888,
              "#fdca26"
             ],
             [
              1,
              "#f0f921"
             ]
            ],
            "type": "surface"
           }
          ],
          "table": [
           {
            "cells": {
             "fill": {
              "color": "#EBF0F8"
             },
             "line": {
              "color": "white"
             }
            },
            "header": {
             "fill": {
              "color": "#C8D4E3"
             },
             "line": {
              "color": "white"
             }
            },
            "type": "table"
           }
          ]
         },
         "layout": {
          "annotationdefaults": {
           "arrowcolor": "#2a3f5f",
           "arrowhead": 0,
           "arrowwidth": 1
          },
          "autotypenumbers": "strict",
          "coloraxis": {
           "colorbar": {
            "outlinewidth": 0,
            "ticks": ""
           }
          },
          "colorscale": {
           "diverging": [
            [
             0,
             "#8e0152"
            ],
            [
             0.1,
             "#c51b7d"
            ],
            [
             0.2,
             "#de77ae"
            ],
            [
             0.3,
             "#f1b6da"
            ],
            [
             0.4,
             "#fde0ef"
            ],
            [
             0.5,
             "#f7f7f7"
            ],
            [
             0.6,
             "#e6f5d0"
            ],
            [
             0.7,
             "#b8e186"
            ],
            [
             0.8,
             "#7fbc41"
            ],
            [
             0.9,
             "#4d9221"
            ],
            [
             1,
             "#276419"
            ]
           ],
           "sequential": [
            [
             0,
             "#0d0887"
            ],
            [
             0.1111111111111111,
             "#46039f"
            ],
            [
             0.2222222222222222,
             "#7201a8"
            ],
            [
             0.3333333333333333,
             "#9c179e"
            ],
            [
             0.4444444444444444,
             "#bd3786"
            ],
            [
             0.5555555555555556,
             "#d8576b"
            ],
            [
             0.6666666666666666,
             "#ed7953"
            ],
            [
             0.7777777777777778,
             "#fb9f3a"
            ],
            [
             0.8888888888888888,
             "#fdca26"
            ],
            [
             1,
             "#f0f921"
            ]
           ],
           "sequentialminus": [
            [
             0,
             "#0d0887"
            ],
            [
             0.1111111111111111,
             "#46039f"
            ],
            [
             0.2222222222222222,
             "#7201a8"
            ],
            [
             0.3333333333333333,
             "#9c179e"
            ],
            [
             0.4444444444444444,
             "#bd3786"
            ],
            [
             0.5555555555555556,
             "#d8576b"
            ],
            [
             0.6666666666666666,
             "#ed7953"
            ],
            [
             0.7777777777777778,
             "#fb9f3a"
            ],
            [
             0.8888888888888888,
             "#fdca26"
            ],
            [
             1,
             "#f0f921"
            ]
           ]
          },
          "colorway": [
           "#636efa",
           "#EF553B",
           "#00cc96",
           "#ab63fa",
           "#FFA15A",
           "#19d3f3",
           "#FF6692",
           "#B6E880",
           "#FF97FF",
           "#FECB52"
          ],
          "font": {
           "color": "#2a3f5f"
          },
          "geo": {
           "bgcolor": "white",
           "lakecolor": "white",
           "landcolor": "#E5ECF6",
           "showlakes": true,
           "showland": true,
           "subunitcolor": "white"
          },
          "hoverlabel": {
           "align": "left"
          },
          "hovermode": "closest",
          "mapbox": {
           "style": "light"
          },
          "paper_bgcolor": "white",
          "plot_bgcolor": "#E5ECF6",
          "polar": {
           "angularaxis": {
            "gridcolor": "white",
            "linecolor": "white",
            "ticks": ""
           },
           "bgcolor": "#E5ECF6",
           "radialaxis": {
            "gridcolor": "white",
            "linecolor": "white",
            "ticks": ""
           }
          },
          "scene": {
           "xaxis": {
            "backgroundcolor": "#E5ECF6",
            "gridcolor": "white",
            "gridwidth": 2,
            "linecolor": "white",
            "showbackground": true,
            "ticks": "",
            "zerolinecolor": "white"
           },
           "yaxis": {
            "backgroundcolor": "#E5ECF6",
            "gridcolor": "white",
            "gridwidth": 2,
            "linecolor": "white",
            "showbackground": true,
            "ticks": "",
            "zerolinecolor": "white"
           },
           "zaxis": {
            "backgroundcolor": "#E5ECF6",
            "gridcolor": "white",
            "gridwidth": 2,
            "linecolor": "white",
            "showbackground": true,
            "ticks": "",
            "zerolinecolor": "white"
           }
          },
          "shapedefaults": {
           "line": {
            "color": "#2a3f5f"
           }
          },
          "ternary": {
           "aaxis": {
            "gridcolor": "white",
            "linecolor": "white",
            "ticks": ""
           },
           "baxis": {
            "gridcolor": "white",
            "linecolor": "white",
            "ticks": ""
           },
           "bgcolor": "#E5ECF6",
           "caxis": {
            "gridcolor": "white",
            "linecolor": "white",
            "ticks": ""
           }
          },
          "title": {
           "x": 0.05
          },
          "xaxis": {
           "automargin": true,
           "gridcolor": "white",
           "linecolor": "white",
           "ticks": "",
           "title": {
            "standoff": 15
           },
           "zerolinecolor": "white",
           "zerolinewidth": 2
          },
          "yaxis": {
           "automargin": true,
           "gridcolor": "white",
           "linecolor": "white",
           "ticks": "",
           "title": {
            "standoff": 15
           },
           "zerolinecolor": "white",
           "zerolinewidth": 2
          }
         }
        },
        "title": {
         "text": "Number of audio files per label after update"
        },
        "xaxis": {
         "anchor": "y",
         "domain": [
          0,
          1
         ],
         "title": {
          "text": "label"
         }
        },
        "yaxis": {
         "anchor": "x",
         "domain": [
          0,
          1
         ],
         "title": {
          "text": "file_path"
         }
        }
       }
      }
     },
     "metadata": {},
     "output_type": "display_data"
    }
   ],
   "source": [
    "groupby_label = df.groupby('label').count().reset_index().sort_values(by='file_path', ascending=False)\n",
    "# plot with plotly\n",
    "fig = px.bar(groupby_label, x='label', y='file_path', title='Number of audio files per label after update')\n",
    "fig.show()"
   ]
  },
  {
   "cell_type": "markdown",
   "metadata": {},
   "source": [
    "### One hot encoding"
   ]
  },
  {
   "cell_type": "markdown",
   "metadata": {},
   "source": [
    "Create a one hot encoding for the labels and save it in a json file for later use in the prediction"
   ]
  },
  {
   "cell_type": "code",
   "execution_count": 12,
   "metadata": {},
   "outputs": [],
   "source": [
    "# get unique label sorted by name\n",
    "unique_labels = sorted(df['label'].unique())\n",
    "\n",
    "# create dictionary with label as key and encoded label as value\n",
    "label_to_id = {label: i for i, label in enumerate(unique_labels)}\n",
    "\n",
    "for k in label_to_id.keys():\n",
    "    label_to_id[k] = torch.nn.functional.one_hot(torch.tensor(label_to_id[k]), num_classes=len(unique_labels)).tolist()\n",
    "\n",
    "# save one hot encoded labels in a json file\n",
    "with open('one_hot_encoding.json', 'w') as f:\n",
    "    json.dump(label_to_id, f)"
   ]
  },
  {
   "cell_type": "code",
   "execution_count": 13,
   "metadata": {},
   "outputs": [
    {
     "data": {
      "text/html": [
       "<div>\n",
       "<style scoped>\n",
       "    .dataframe tbody tr th:only-of-type {\n",
       "        vertical-align: middle;\n",
       "    }\n",
       "\n",
       "    .dataframe tbody tr th {\n",
       "        vertical-align: top;\n",
       "    }\n",
       "\n",
       "    .dataframe thead th {\n",
       "        text-align: right;\n",
       "    }\n",
       "</style>\n",
       "<table border=\"1\" class=\"dataframe\">\n",
       "  <thead>\n",
       "    <tr style=\"text-align: right;\">\n",
       "      <th></th>\n",
       "      <th>file_path</th>\n",
       "      <th>label</th>\n",
       "      <th>encoded_label</th>\n",
       "    </tr>\n",
       "  </thead>\n",
       "  <tbody>\n",
       "    <tr>\n",
       "      <th>0</th>\n",
       "      <td>../data/birdclef-2023/train_audio_split/trobou...</td>\n",
       "      <td>trobou1</td>\n",
       "      <td>[0, 0, 0, 0, 0, 0, 0, 0, 0, 0, 0, 0, 0, 0, 0, ...</td>\n",
       "    </tr>\n",
       "    <tr>\n",
       "      <th>1</th>\n",
       "      <td>../data/birdclef-2023/train_audio_split/trobou...</td>\n",
       "      <td>trobou1</td>\n",
       "      <td>[0, 0, 0, 0, 0, 0, 0, 0, 0, 0, 0, 0, 0, 0, 0, ...</td>\n",
       "    </tr>\n",
       "    <tr>\n",
       "      <th>2</th>\n",
       "      <td>../data/birdclef-2023/train_audio_split/trobou...</td>\n",
       "      <td>trobou1</td>\n",
       "      <td>[0, 0, 0, 0, 0, 0, 0, 0, 0, 0, 0, 0, 0, 0, 0, ...</td>\n",
       "    </tr>\n",
       "    <tr>\n",
       "      <th>3</th>\n",
       "      <td>../data/birdclef-2023/train_audio_split/trobou...</td>\n",
       "      <td>trobou1</td>\n",
       "      <td>[0, 0, 0, 0, 0, 0, 0, 0, 0, 0, 0, 0, 0, 0, 0, ...</td>\n",
       "    </tr>\n",
       "    <tr>\n",
       "      <th>4</th>\n",
       "      <td>../data/birdclef-2023/train_audio_split/trobou...</td>\n",
       "      <td>trobou1</td>\n",
       "      <td>[0, 0, 0, 0, 0, 0, 0, 0, 0, 0, 0, 0, 0, 0, 0, ...</td>\n",
       "    </tr>\n",
       "  </tbody>\n",
       "</table>\n",
       "</div>"
      ],
      "text/plain": [
       "                                           file_path    label   \n",
       "0  ../data/birdclef-2023/train_audio_split/trobou...  trobou1  \\\n",
       "1  ../data/birdclef-2023/train_audio_split/trobou...  trobou1   \n",
       "2  ../data/birdclef-2023/train_audio_split/trobou...  trobou1   \n",
       "3  ../data/birdclef-2023/train_audio_split/trobou...  trobou1   \n",
       "4  ../data/birdclef-2023/train_audio_split/trobou...  trobou1   \n",
       "\n",
       "                                       encoded_label  \n",
       "0  [0, 0, 0, 0, 0, 0, 0, 0, 0, 0, 0, 0, 0, 0, 0, ...  \n",
       "1  [0, 0, 0, 0, 0, 0, 0, 0, 0, 0, 0, 0, 0, 0, 0, ...  \n",
       "2  [0, 0, 0, 0, 0, 0, 0, 0, 0, 0, 0, 0, 0, 0, 0, ...  \n",
       "3  [0, 0, 0, 0, 0, 0, 0, 0, 0, 0, 0, 0, 0, 0, 0, ...  \n",
       "4  [0, 0, 0, 0, 0, 0, 0, 0, 0, 0, 0, 0, 0, 0, 0, ...  "
      ]
     },
     "execution_count": 13,
     "metadata": {},
     "output_type": "execute_result"
    }
   ],
   "source": [
    "# load one hot encoded labels from json file and add it to dataframe\n",
    "with open('one_hot_encoding.json', 'r') as f:\n",
    "    label_to_id = json.load(f)\n",
    "\n",
    "df['encoded_label'] = df['label'].map(label_to_id)\n",
    "df.head()"
   ]
  },
  {
   "cell_type": "markdown",
   "metadata": {},
   "source": [
    "- mel spectrogram"
   ]
  },
  {
   "cell_type": "code",
   "execution_count": 14,
   "metadata": {},
   "outputs": [
    {
     "data": {
      "image/png": "[encoded data removed]",
      "text/plain": [
       "<Figure size 2000x500 with 2 Axes>"
      ]
     },
     "metadata": {},
     "output_type": "display_data"
    }
   ],
   "source": [
    "# mel spectrogram\n",
    "audio = torch.mean(audio, axis=0)\n",
    "audio = audio / torch.max(torch.abs(audio))\n",
    "\n",
    "\n",
    "melspectrogram = T.MelSpectrogram(sample_rate=32000, n_mels=128, n_fft=2048, hop_length=512, f_min=500, f_max=15000)\n",
    "melspec = melspectrogram(audio)\n",
    "\n",
    "image = Image.fromarray(melspec.numpy())\n",
    "\n",
    "plt.figure(figsize=(20, 5))\n",
    "\n",
    "plt.subplot(1, 2, 1)\n",
    "plt.plot(audio)\n",
    "plt.title('Raw audio')\n",
    "\n",
    "plt.subplot(1, 2, 2)\n",
    "plt.imshow(image, origin='lower', aspect='auto')\n",
    "plt.title('Mel spectrogram')\n",
    "plt.show()"
   ]
  },
  {
   "attachments": {},
   "cell_type": "markdown",
   "metadata": {},
   "source": [
    "So we will use the mel spectrogram to train our model with CNN."
   ]
  },
  {
   "cell_type": "markdown",
   "metadata": {},
   "source": [
    "### Dataset"
   ]
  },
  {
   "cell_type": "code",
   "execution_count": 15,
   "metadata": {},
   "outputs": [],
   "source": [
    "class BirdDataset(Dataset):\n",
    "    def __init__(self, df, sample_rate=32000):\n",
    "        self.df = df\n",
    "        self.file_paths = df['file_path'].values\n",
    "        self.target = df['label'].values\n",
    "        self.labels = df['encoded_label'].values\n",
    "        self.sample_rate = sample_rate\n",
    "        self.melspectrogram = T.MelSpectrogram(sample_rate=self.sample_rate, n_mels=128, n_fft=2048, hop_length=512, f_min=500, f_max=15000)\n",
    "        self.preprocess = transforms.Compose([\n",
    "            transforms.Resize(256),\n",
    "            transforms.CenterCrop(224),\n",
    "            transforms.ToTensor(),\n",
    "            transforms.Normalize(mean=[0.485, 0.456, 0.406], std=[0.229, 0.224, 0.225])\n",
    "        ])\n",
    "    \n",
    "    def __len__(self):\n",
    "        return len(self.df)\n",
    "    \n",
    "    def __getitem__(self, idx):\n",
    "        audio, sr = torchaudio.load(self.file_paths[idx])\n",
    "\n",
    "        # if audio has more than one channel, convert it to mono by averaging the channels\n",
    "        audio = torch.mean(audio, axis=0)\n",
    "\n",
    "        if sr != self.sample_rate:\n",
    "            resampler = T.Resample(sr, self.sample_rate)\n",
    "            audio = resampler(audio)\n",
    "\n",
    "        # add random noise to audio\n",
    "        if np.random.rand() < 0.3:\n",
    "            noise = torch.randn_like(audio) * 0.005\n",
    "            audio += noise\n",
    "\n",
    "        # normalize audio \n",
    "        audio = audio / torch.max(torch.abs(audio))\n",
    "\n",
    "        # convert audio to melspectrogram\n",
    "        melspec = self.melspectrogram(audio)\n",
    "\n",
    "        # convert melspec to image\n",
    "        image = Image.fromarray(melspec.numpy())\n",
    "        image = image.convert(\"RGB\")\n",
    "\n",
    "        return {\"image\": self.preprocess(image), \"label\": torch.Tensor(self.labels[idx]), \"label_text\": self.target[idx]}"
   ]
  },
  {
   "cell_type": "markdown",
   "metadata": {},
   "source": [
    "### Split data into train and val"
   ]
  },
  {
   "cell_type": "code",
   "execution_count": 16,
   "metadata": {},
   "outputs": [
    {
     "data": {
      "text/plain": [
       "((109480, 3), (19320, 3))"
      ]
     },
     "execution_count": 16,
     "metadata": {},
     "output_type": "execute_result"
    }
   ],
   "source": [
    "from sklearn.model_selection import train_test_split\n",
    "\n",
    "# stratify split on label to have same distribution of labels in train and val set\n",
    "train_df, val_df = train_test_split(df, test_size=0.15, random_state=42, stratify=df['label'], shuffle=True)\n",
    "\n",
    "train_df = train_df.reset_index(drop=True)\n",
    "val_df = val_df.reset_index(drop=True)\n",
    "\n",
    "train_df.shape, val_df.shape"
   ]
  },
  {
   "cell_type": "code",
   "execution_count": 17,
   "metadata": {},
   "outputs": [
    {
     "data": {
      "text/plain": [
       "device(type='cpu')"
      ]
     },
     "execution_count": 17,
     "metadata": {},
     "output_type": "execute_result"
    }
   ],
   "source": [
    "torch.cuda.empty_cache()\n",
    "device = torch.device(\"cuda\" if torch.cuda.is_available() else \"cpu\")\n",
    "device"
   ]
  },
  {
   "cell_type": "code",
   "execution_count": 18,
   "metadata": {},
   "outputs": [],
   "source": [
    "train_dataset = BirdDataset(train_df)\n",
    "val_dataset = BirdDataset(val_df)\n",
    "\n",
    "train_loader = DataLoader(train_dataset, batch_size=32)\n",
    "val_loader = DataLoader(val_dataset, batch_size=32)"
   ]
  },
  {
   "cell_type": "markdown",
   "metadata": {},
   "source": [
    "### Model"
   ]
  },
  {
   "cell_type": "code",
   "execution_count": 19,
   "metadata": {},
   "outputs": [],
   "source": [
    "class BirdModel(nn.Module):\n",
    "    def __init__(self, model_name='tf_efficientnet_b3', pretrained=True, num_classes=264):\n",
    "        super(BirdModel, self).__init__()\n",
    "\n",
    "        self.model = timm.create_model(model_name, pretrained=pretrained)\n",
    "        self.in_features = self.model.classifier.in_features\n",
    "        self.model.classifier = nn.Sequential(\n",
    "            nn.Linear(self.in_features, num_classes)\n",
    "        )\n",
    "   \n",
    "\n",
    "    def forward(self, img):\n",
    "        return self.model(img)"
   ]
  },
  {
   "cell_type": "code",
   "execution_count": 20,
   "metadata": {},
   "outputs": [
    {
     "data": {
      "text/plain": [
       "BirdModel(\n",
       "  (model): EfficientNet(\n",
       "    (conv_stem): Conv2dSame(3, 40, kernel_size=(3, 3), stride=(2, 2), bias=False)\n",
       "    (bn1): BatchNormAct2d(\n",
       "      40, eps=0.001, momentum=0.1, affine=True, track_running_stats=True\n",
       "      (drop): Identity()\n",
       "      (act): SiLU(inplace=True)\n",
       "    )\n",
       "    (blocks): Sequential(\n",
       "      (0): Sequential(\n",
       "        (0): DepthwiseSeparableConv(\n",
       "          (conv_dw): Conv2d(40, 40, kernel_size=(3, 3), stride=(1, 1), padding=(1, 1), groups=40, bias=False)\n",
       "          (bn1): BatchNormAct2d(\n",
       "            40, eps=0.001, momentum=0.1, affine=True, track_running_stats=True\n",
       "            (drop): Identity()\n",
       "            (act): SiLU(inplace=True)\n",
       "          )\n",
       "          (se): SqueezeExcite(\n",
       "            (conv_reduce): Conv2d(40, 10, kernel_size=(1, 1), stride=(1, 1))\n",
       "            (act1): SiLU(inplace=True)\n",
       "            (conv_expand): Conv2d(10, 40, kernel_size=(1, 1), stride=(1, 1))\n",
       "            (gate): Sigmoid()\n",
       "          )\n",
       "          (conv_pw): Conv2d(40, 24, kernel_size=(1, 1), stride=(1, 1), bias=False)\n",
       "          (bn2): BatchNormAct2d(\n",
       "            24, eps=0.001, momentum=0.1, affine=True, track_running_stats=True\n",
       "            (drop): Identity()\n",
       "            (act): Identity()\n",
       "          )\n",
       "          (drop_path): Identity()\n",
       "        )\n",
       "        (1): DepthwiseSeparableConv(\n",
       "          (conv_dw): Conv2d(24, 24, kernel_size=(3, 3), stride=(1, 1), padding=(1, 1), groups=24, bias=False)\n",
       "          (bn1): BatchNormAct2d(\n",
       "            24, eps=0.001, momentum=0.1, affine=True, track_running_stats=True\n",
       "            (drop): Identity()\n",
       "            (act): SiLU(inplace=True)\n",
       "          )\n",
       "          (se): SqueezeExcite(\n",
       "            (conv_reduce): Conv2d(24, 6, kernel_size=(1, 1), stride=(1, 1))\n",
       "            (act1): SiLU(inplace=True)\n",
       "            (conv_expand): Conv2d(6, 24, kernel_size=(1, 1), stride=(1, 1))\n",
       "            (gate): Sigmoid()\n",
       "          )\n",
       "          (conv_pw): Conv2d(24, 24, kernel_size=(1, 1), stride=(1, 1), bias=False)\n",
       "          (bn2): BatchNormAct2d(\n",
       "            24, eps=0.001, momentum=0.1, affine=True, track_running_stats=True\n",
       "            (drop): Identity()\n",
       "            (act): Identity()\n",
       "          )\n",
       "          (drop_path): Identity()\n",
       "        )\n",
       "      )\n",
       "      (1): Sequential(\n",
       "        (0): InvertedResidual(\n",
       "          (conv_pw): Conv2d(24, 144, kernel_size=(1, 1), stride=(1, 1), bias=False)\n",
       "          (bn1): BatchNormAct2d(\n",
       "            144, eps=0.001, momentum=0.1, affine=True, track_running_stats=True\n",
       "            (drop): Identity()\n",
       "            (act): SiLU(inplace=True)\n",
       "          )\n",
       "          (conv_dw): Conv2dSame(144, 144, kernel_size=(3, 3), stride=(2, 2), groups=144, bias=False)\n",
       "          (bn2): BatchNormAct2d(\n",
       "            144, eps=0.001, momentum=0.1, affine=True, track_running_stats=True\n",
       "            (drop): Identity()\n",
       "            (act): SiLU(inplace=True)\n",
       "          )\n",
       "          (se): SqueezeExcite(\n",
       "            (conv_reduce): Conv2d(144, 6, kernel_size=(1, 1), stride=(1, 1))\n",
       "            (act1): SiLU(inplace=True)\n",
       "            (conv_expand): Conv2d(6, 144, kernel_size=(1, 1), stride=(1, 1))\n",
       "            (gate): Sigmoid()\n",
       "          )\n",
       "          (conv_pwl): Conv2d(144, 32, kernel_size=(1, 1), stride=(1, 1), bias=False)\n",
       "          (bn3): BatchNormAct2d(\n",
       "            32, eps=0.001, momentum=0.1, affine=True, track_running_stats=True\n",
       "            (drop): Identity()\n",
       "            (act): Identity()\n",
       "          )\n",
       "          (drop_path): Identity()\n",
       "        )\n",
       "        (1): InvertedResidual(\n",
       "          (conv_pw): Conv2d(32, 192, kernel_size=(1, 1), stride=(1, 1), bias=False)\n",
       "          (bn1): BatchNormAct2d(\n",
       "            192, eps=0.001, momentum=0.1, affine=True, track_running_stats=True\n",
       "            (drop): Identity()\n",
       "            (act): SiLU(inplace=True)\n",
       "          )\n",
       "          (conv_dw): Conv2d(192, 192, kernel_size=(3, 3), stride=(1, 1), padding=(1, 1), groups=192, bias=False)\n",
       "          (bn2): BatchNormAct2d(\n",
       "            192, eps=0.001, momentum=0.1, affine=True, track_running_stats=True\n",
       "            (drop): Identity()\n",
       "            (act): SiLU(inplace=True)\n",
       "          )\n",
       "          (se): SqueezeExcite(\n",
       "            (conv_reduce): Conv2d(192, 8, kernel_size=(1, 1), stride=(1, 1))\n",
       "            (act1): SiLU(inplace=True)\n",
       "            (conv_expand): Conv2d(8, 192, kernel_size=(1, 1), stride=(1, 1))\n",
       "            (gate): Sigmoid()\n",
       "          )\n",
       "          (conv_pwl): Conv2d(192, 32, kernel_size=(1, 1), stride=(1, 1), bias=False)\n",
       "          (bn3): BatchNormAct2d(\n",
       "            32, eps=0.001, momentum=0.1, affine=True, track_running_stats=True\n",
       "            (drop): Identity()\n",
       "            (act): Identity()\n",
       "          )\n",
       "          (drop_path): Identity()\n",
       "        )\n",
       "        (2): InvertedResidual(\n",
       "          (conv_pw): Conv2d(32, 192, kernel_size=(1, 1), stride=(1, 1), bias=False)\n",
       "          (bn1): BatchNormAct2d(\n",
       "            192, eps=0.001, momentum=0.1, affine=True, track_running_stats=True\n",
       "            (drop): Identity()\n",
       "            (act): SiLU(inplace=True)\n",
       "          )\n",
       "          (conv_dw): Conv2d(192, 192, kernel_size=(3, 3), stride=(1, 1), padding=(1, 1), groups=192, bias=False)\n",
       "          (bn2): BatchNormAct2d(\n",
       "            192, eps=0.001, momentum=0.1, affine=True, track_running_stats=True\n",
       "            (drop): Identity()\n",
       "            (act): SiLU(inplace=True)\n",
       "          )\n",
       "          (se): SqueezeExcite(\n",
       "            (conv_reduce): Conv2d(192, 8, kernel_size=(1, 1), stride=(1, 1))\n",
       "            (act1): SiLU(inplace=True)\n",
       "            (conv_expand): Conv2d(8, 192, kernel_size=(1, 1), stride=(1, 1))\n",
       "            (gate): Sigmoid()\n",
       "          )\n",
       "          (conv_pwl): Conv2d(192, 32, kernel_size=(1, 1), stride=(1, 1), bias=False)\n",
       "          (bn3): BatchNormAct2d(\n",
       "            32, eps=0.001, momentum=0.1, affine=True, track_running_stats=True\n",
       "            (drop): Identity()\n",
       "            (act): Identity()\n",
       "          )\n",
       "          (drop_path): Identity()\n",
       "        )\n",
       "      )\n",
       "      (2): Sequential(\n",
       "        (0): InvertedResidual(\n",
       "          (conv_pw): Conv2d(32, 192, kernel_size=(1, 1), stride=(1, 1), bias=False)\n",
       "          (bn1): BatchNormAct2d(\n",
       "            192, eps=0.001, momentum=0.1, affine=True, track_running_stats=True\n",
       "            (drop): Identity()\n",
       "            (act): SiLU(inplace=True)\n",
       "          )\n",
       "          (conv_dw): Conv2dSame(192, 192, kernel_size=(5, 5), stride=(2, 2), groups=192, bias=False)\n",
       "          (bn2): BatchNormAct2d(\n",
       "            192, eps=0.001, momentum=0.1, affine=True, track_running_stats=True\n",
       "            (drop): Identity()\n",
       "            (act): SiLU(inplace=True)\n",
       "          )\n",
       "          (se): SqueezeExcite(\n",
       "            (conv_reduce): Conv2d(192, 8, kernel_size=(1, 1), stride=(1, 1))\n",
       "            (act1): SiLU(inplace=True)\n",
       "            (conv_expand): Conv2d(8, 192, kernel_size=(1, 1), stride=(1, 1))\n",
       "            (gate): Sigmoid()\n",
       "          )\n",
       "          (conv_pwl): Conv2d(192, 48, kernel_size=(1, 1), stride=(1, 1), bias=False)\n",
       "          (bn3): BatchNormAct2d(\n",
       "            48, eps=0.001, momentum=0.1, affine=True, track_running_stats=True\n",
       "            (drop): Identity()\n",
       "            (act): Identity()\n",
       "          )\n",
       "          (drop_path): Identity()\n",
       "        )\n",
       "        (1): InvertedResidual(\n",
       "          (conv_pw): Conv2d(48, 288, kernel_size=(1, 1), stride=(1, 1), bias=False)\n",
       "          (bn1): BatchNormAct2d(\n",
       "            288, eps=0.001, momentum=0.1, affine=True, track_running_stats=True\n",
       "            (drop): Identity()\n",
       "            (act): SiLU(inplace=True)\n",
       "          )\n",
       "          (conv_dw): Conv2d(288, 288, kernel_size=(5, 5), stride=(1, 1), padding=(2, 2), groups=288, bias=False)\n",
       "          (bn2): BatchNormAct2d(\n",
       "            288, eps=0.001, momentum=0.1, affine=True, track_running_stats=True\n",
       "            (drop): Identity()\n",
       "            (act): SiLU(inplace=True)\n",
       "          )\n",
       "          (se): SqueezeExcite(\n",
       "            (conv_reduce): Conv2d(288, 12, kernel_size=(1, 1), stride=(1, 1))\n",
       "            (act1): SiLU(inplace=True)\n",
       "            (conv_expand): Conv2d(12, 288, kernel_size=(1, 1), stride=(1, 1))\n",
       "            (gate): Sigmoid()\n",
       "          )\n",
       "          (conv_pwl): Conv2d(288, 48, kernel_size=(1, 1), stride=(1, 1), bias=False)\n",
       "          (bn3): BatchNormAct2d(\n",
       "            48, eps=0.001, momentum=0.1, affine=True, track_running_stats=True\n",
       "            (drop): Identity()\n",
       "            (act): Identity()\n",
       "          )\n",
       "          (drop_path): Identity()\n",
       "        )\n",
       "        (2): InvertedResidual(\n",
       "          (conv_pw): Conv2d(48, 288, kernel_size=(1, 1), stride=(1, 1), bias=False)\n",
       "          (bn1): BatchNormAct2d(\n",
       "            288, eps=0.001, momentum=0.1, affine=True, track_running_stats=True\n",
       "            (drop): Identity()\n",
       "            (act): SiLU(inplace=True)\n",
       "          )\n",
       "          (conv_dw): Conv2d(288, 288, kernel_size=(5, 5), stride=(1, 1), padding=(2, 2), groups=288, bias=False)\n",
       "          (bn2): BatchNormAct2d(\n",
       "            288, eps=0.001, momentum=0.1, affine=True, track_running_stats=True\n",
       "            (drop): Identity()\n",
       "            (act): SiLU(inplace=True)\n",
       "          )\n",
       "          (se): SqueezeExcite(\n",
       "            (conv_reduce): Conv2d(288, 12, kernel_size=(1, 1), stride=(1, 1))\n",
       "            (act1): SiLU(inplace=True)\n",
       "            (conv_expand): Conv2d(12, 288, kernel_size=(1, 1), stride=(1, 1))\n",
       "            (gate): Sigmoid()\n",
       "          )\n",
       "          (conv_pwl): Conv2d(288, 48, kernel_size=(1, 1), stride=(1, 1), bias=False)\n",
       "          (bn3): BatchNormAct2d(\n",
       "            48, eps=0.001, momentum=0.1, affine=True, track_running_stats=True\n",
       "            (drop): Identity()\n",
       "            (act): Identity()\n",
       "          )\n",
       "          (drop_path): Identity()\n",
       "        )\n",
       "      )\n",
       "      (3): Sequential(\n",
       "        (0): InvertedResidual(\n",
       "          (conv_pw): Conv2d(48, 288, kernel_size=(1, 1), stride=(1, 1), bias=False)\n",
       "          (bn1): BatchNormAct2d(\n",
       "            288, eps=0.001, momentum=0.1, affine=True, track_running_stats=True\n",
       "            (drop): Identity()\n",
       "            (act): SiLU(inplace=True)\n",
       "          )\n",
       "          (conv_dw): Conv2dSame(288, 288, kernel_size=(3, 3), stride=(2, 2), groups=288, bias=False)\n",
       "          (bn2): BatchNormAct2d(\n",
       "            288, eps=0.001, momentum=0.1, affine=True, track_running_stats=True\n",
       "            (drop): Identity()\n",
       "            (act): SiLU(inplace=True)\n",
       "          )\n",
       "          (se): SqueezeExcite(\n",
       "            (conv_reduce): Conv2d(288, 12, kernel_size=(1, 1), stride=(1, 1))\n",
       "            (act1): SiLU(inplace=True)\n",
       "            (conv_expand): Conv2d(12, 288, kernel_size=(1, 1), stride=(1, 1))\n",
       "            (gate): Sigmoid()\n",
       "          )\n",
       "          (conv_pwl): Conv2d(288, 96, kernel_size=(1, 1), stride=(1, 1), bias=False)\n",
       "          (bn3): BatchNormAct2d(\n",
       "            96, eps=0.001, momentum=0.1, affine=True, track_running_stats=True\n",
       "            (drop): Identity()\n",
       "            (act): Identity()\n",
       "          )\n",
       "          (drop_path): Identity()\n",
       "        )\n",
       "        (1): InvertedResidual(\n",
       "          (conv_pw): Conv2d(96, 576, kernel_size=(1, 1), stride=(1, 1), bias=False)\n",
       "          (bn1): BatchNormAct2d(\n",
       "            576, eps=0.001, momentum=0.1, affine=True, track_running_stats=True\n",
       "            (drop): Identity()\n",
       "            (act): SiLU(inplace=True)\n",
       "          )\n",
       "          (conv_dw): Conv2d(576, 576, kernel_size=(3, 3), stride=(1, 1), padding=(1, 1), groups=576, bias=False)\n",
       "          (bn2): BatchNormAct2d(\n",
       "            576, eps=0.001, momentum=0.1, affine=True, track_running_stats=True\n",
       "            (drop): Identity()\n",
       "            (act): SiLU(inplace=True)\n",
       "          )\n",
       "          (se): SqueezeExcite(\n",
       "            (conv_reduce): Conv2d(576, 24, kernel_size=(1, 1), stride=(1, 1))\n",
       "            (act1): SiLU(inplace=True)\n",
       "            (conv_expand): Conv2d(24, 576, kernel_size=(1, 1), stride=(1, 1))\n",
       "            (gate): Sigmoid()\n",
       "          )\n",
       "          (conv_pwl): Conv2d(576, 96, kernel_size=(1, 1), stride=(1, 1), bias=False)\n",
       "          (bn3): BatchNormAct2d(\n",
       "            96, eps=0.001, momentum=0.1, affine=True, track_running_stats=True\n",
       "            (drop): Identity()\n",
       "            (act): Identity()\n",
       "          )\n",
       "          (drop_path): Identity()\n",
       "        )\n",
       "        (2): InvertedResidual(\n",
       "          (conv_pw): Conv2d(96, 576, kernel_size=(1, 1), stride=(1, 1), bias=False)\n",
       "          (bn1): BatchNormAct2d(\n",
       "            576, eps=0.001, momentum=0.1, affine=True, track_running_stats=True\n",
       "            (drop): Identity()\n",
       "            (act): SiLU(inplace=True)\n",
       "          )\n",
       "          (conv_dw): Conv2d(576, 576, kernel_size=(3, 3), stride=(1, 1), padding=(1, 1), groups=576, bias=False)\n",
       "          (bn2): BatchNormAct2d(\n",
       "            576, eps=0.001, momentum=0.1, affine=True, track_running_stats=True\n",
       "            (drop): Identity()\n",
       "            (act): SiLU(inplace=True)\n",
       "          )\n",
       "          (se): SqueezeExcite(\n",
       "            (conv_reduce): Conv2d(576, 24, kernel_size=(1, 1), stride=(1, 1))\n",
       "            (act1): SiLU(inplace=True)\n",
       "            (conv_expand): Conv2d(24, 576, kernel_size=(1, 1), stride=(1, 1))\n",
       "            (gate): Sigmoid()\n",
       "          )\n",
       "          (conv_pwl): Conv2d(576, 96, kernel_size=(1, 1), stride=(1, 1), bias=False)\n",
       "          (bn3): BatchNormAct2d(\n",
       "            96, eps=0.001, momentum=0.1, affine=True, track_running_stats=True\n",
       "            (drop): Identity()\n",
       "            (act): Identity()\n",
       "          )\n",
       "          (drop_path): Identity()\n",
       "        )\n",
       "        (3): InvertedResidual(\n",
       "          (conv_pw): Conv2d(96, 576, kernel_size=(1, 1), stride=(1, 1), bias=False)\n",
       "          (bn1): BatchNormAct2d(\n",
       "            576, eps=0.001, momentum=0.1, affine=True, track_running_stats=True\n",
       "            (drop): Identity()\n",
       "            (act): SiLU(inplace=True)\n",
       "          )\n",
       "          (conv_dw): Conv2d(576, 576, kernel_size=(3, 3), stride=(1, 1), padding=(1, 1), groups=576, bias=False)\n",
       "          (bn2): BatchNormAct2d(\n",
       "            576, eps=0.001, momentum=0.1, affine=True, track_running_stats=True\n",
       "            (drop): Identity()\n",
       "            (act): SiLU(inplace=True)\n",
       "          )\n",
       "          (se): SqueezeExcite(\n",
       "            (conv_reduce): Conv2d(576, 24, kernel_size=(1, 1), stride=(1, 1))\n",
       "            (act1): SiLU(inplace=True)\n",
       "            (conv_expand): Conv2d(24, 576, kernel_size=(1, 1), stride=(1, 1))\n",
       "            (gate): Sigmoid()\n",
       "          )\n",
       "          (conv_pwl): Conv2d(576, 96, kernel_size=(1, 1), stride=(1, 1), bias=False)\n",
       "          (bn3): BatchNormAct2d(\n",
       "            96, eps=0.001, momentum=0.1, affine=True, track_running_stats=True\n",
       "            (drop): Identity()\n",
       "            (act): Identity()\n",
       "          )\n",
       "          (drop_path): Identity()\n",
       "        )\n",
       "        (4): InvertedResidual(\n",
       "          (conv_pw): Conv2d(96, 576, kernel_size=(1, 1), stride=(1, 1), bias=False)\n",
       "          (bn1): BatchNormAct2d(\n",
       "            576, eps=0.001, momentum=0.1, affine=True, track_running_stats=True\n",
       "            (drop): Identity()\n",
       "            (act): SiLU(inplace=True)\n",
       "          )\n",
       "          (conv_dw): Conv2d(576, 576, kernel_size=(3, 3), stride=(1, 1), padding=(1, 1), groups=576, bias=False)\n",
       "          (bn2): BatchNormAct2d(\n",
       "            576, eps=0.001, momentum=0.1, affine=True, track_running_stats=True\n",
       "            (drop): Identity()\n",
       "            (act): SiLU(inplace=True)\n",
       "          )\n",
       "          (se): SqueezeExcite(\n",
       "            (conv_reduce): Conv2d(576, 24, kernel_size=(1, 1), stride=(1, 1))\n",
       "            (act1): SiLU(inplace=True)\n",
       "            (conv_expand): Conv2d(24, 576, kernel_size=(1, 1), stride=(1, 1))\n",
       "            (gate): Sigmoid()\n",
       "          )\n",
       "          (conv_pwl): Conv2d(576, 96, kernel_size=(1, 1), stride=(1, 1), bias=False)\n",
       "          (bn3): BatchNormAct2d(\n",
       "            96, eps=0.001, momentum=0.1, affine=True, track_running_stats=True\n",
       "            (drop): Identity()\n",
       "            (act): Identity()\n",
       "          )\n",
       "          (drop_path): Identity()\n",
       "        )\n",
       "      )\n",
       "      (4): Sequential(\n",
       "        (0): InvertedResidual(\n",
       "          (conv_pw): Conv2d(96, 576, kernel_size=(1, 1), stride=(1, 1), bias=False)\n",
       "          (bn1): BatchNormAct2d(\n",
       "            576, eps=0.001, momentum=0.1, affine=True, track_running_stats=True\n",
       "            (drop): Identity()\n",
       "            (act): SiLU(inplace=True)\n",
       "          )\n",
       "          (conv_dw): Conv2d(576, 576, kernel_size=(5, 5), stride=(1, 1), padding=(2, 2), groups=576, bias=False)\n",
       "          (bn2): BatchNormAct2d(\n",
       "            576, eps=0.001, momentum=0.1, affine=True, track_running_stats=True\n",
       "            (drop): Identity()\n",
       "            (act): SiLU(inplace=True)\n",
       "          )\n",
       "          (se): SqueezeExcite(\n",
       "            (conv_reduce): Conv2d(576, 24, kernel_size=(1, 1), stride=(1, 1))\n",
       "            (act1): SiLU(inplace=True)\n",
       "            (conv_expand): Conv2d(24, 576, kernel_size=(1, 1), stride=(1, 1))\n",
       "            (gate): Sigmoid()\n",
       "          )\n",
       "          (conv_pwl): Conv2d(576, 136, kernel_size=(1, 1), stride=(1, 1), bias=False)\n",
       "          (bn3): BatchNormAct2d(\n",
       "            136, eps=0.001, momentum=0.1, affine=True, track_running_stats=True\n",
       "            (drop): Identity()\n",
       "            (act): Identity()\n",
       "          )\n",
       "          (drop_path): Identity()\n",
       "        )\n",
       "        (1): InvertedResidual(\n",
       "          (conv_pw): Conv2d(136, 816, kernel_size=(1, 1), stride=(1, 1), bias=False)\n",
       "          (bn1): BatchNormAct2d(\n",
       "            816, eps=0.001, momentum=0.1, affine=True, track_running_stats=True\n",
       "            (drop): Identity()\n",
       "            (act): SiLU(inplace=True)\n",
       "          )\n",
       "          (conv_dw): Conv2d(816, 816, kernel_size=(5, 5), stride=(1, 1), padding=(2, 2), groups=816, bias=False)\n",
       "          (bn2): BatchNormAct2d(\n",
       "            816, eps=0.001, momentum=0.1, affine=True, track_running_stats=True\n",
       "            (drop): Identity()\n",
       "            (act): SiLU(inplace=True)\n",
       "          )\n",
       "          (se): SqueezeExcite(\n",
       "            (conv_reduce): Conv2d(816, 34, kernel_size=(1, 1), stride=(1, 1))\n",
       "            (act1): SiLU(inplace=True)\n",
       "            (conv_expand): Conv2d(34, 816, kernel_size=(1, 1), stride=(1, 1))\n",
       "            (gate): Sigmoid()\n",
       "          )\n",
       "          (conv_pwl): Conv2d(816, 136, kernel_size=(1, 1), stride=(1, 1), bias=False)\n",
       "          (bn3): BatchNormAct2d(\n",
       "            136, eps=0.001, momentum=0.1, affine=True, track_running_stats=True\n",
       "            (drop): Identity()\n",
       "            (act): Identity()\n",
       "          )\n",
       "          (drop_path): Identity()\n",
       "        )\n",
       "        (2): InvertedResidual(\n",
       "          (conv_pw): Conv2d(136, 816, kernel_size=(1, 1), stride=(1, 1), bias=False)\n",
       "          (bn1): BatchNormAct2d(\n",
       "            816, eps=0.001, momentum=0.1, affine=True, track_running_stats=True\n",
       "            (drop): Identity()\n",
       "            (act): SiLU(inplace=True)\n",
       "          )\n",
       "          (conv_dw): Conv2d(816, 816, kernel_size=(5, 5), stride=(1, 1), padding=(2, 2), groups=816, bias=False)\n",
       "          (bn2): BatchNormAct2d(\n",
       "            816, eps=0.001, momentum=0.1, affine=True, track_running_stats=True\n",
       "            (drop): Identity()\n",
       "            (act): SiLU(inplace=True)\n",
       "          )\n",
       "          (se): SqueezeExcite(\n",
       "            (conv_reduce): Conv2d(816, 34, kernel_size=(1, 1), stride=(1, 1))\n",
       "            (act1): SiLU(inplace=True)\n",
       "            (conv_expand): Conv2d(34, 816, kernel_size=(1, 1), stride=(1, 1))\n",
       "            (gate): Sigmoid()\n",
       "          )\n",
       "          (conv_pwl): Conv2d(816, 136, kernel_size=(1, 1), stride=(1, 1), bias=False)\n",
       "          (bn3): BatchNormAct2d(\n",
       "            136, eps=0.001, momentum=0.1, affine=True, track_running_stats=True\n",
       "            (drop): Identity()\n",
       "            (act): Identity()\n",
       "          )\n",
       "          (drop_path): Identity()\n",
       "        )\n",
       "        (3): InvertedResidual(\n",
       "          (conv_pw): Conv2d(136, 816, kernel_size=(1, 1), stride=(1, 1), bias=False)\n",
       "          (bn1): BatchNormAct2d(\n",
       "            816, eps=0.001, momentum=0.1, affine=True, track_running_stats=True\n",
       "            (drop): Identity()\n",
       "            (act): SiLU(inplace=True)\n",
       "          )\n",
       "          (conv_dw): Conv2d(816, 816, kernel_size=(5, 5), stride=(1, 1), padding=(2, 2), groups=816, bias=False)\n",
       "          (bn2): BatchNormAct2d(\n",
       "            816, eps=0.001, momentum=0.1, affine=True, track_running_stats=True\n",
       "            (drop): Identity()\n",
       "            (act): SiLU(inplace=True)\n",
       "          )\n",
       "          (se): SqueezeExcite(\n",
       "            (conv_reduce): Conv2d(816, 34, kernel_size=(1, 1), stride=(1, 1))\n",
       "            (act1): SiLU(inplace=True)\n",
       "            (conv_expand): Conv2d(34, 816, kernel_size=(1, 1), stride=(1, 1))\n",
       "            (gate): Sigmoid()\n",
       "          )\n",
       "          (conv_pwl): Conv2d(816, 136, kernel_size=(1, 1), stride=(1, 1), bias=False)\n",
       "          (bn3): BatchNormAct2d(\n",
       "            136, eps=0.001, momentum=0.1, affine=True, track_running_stats=True\n",
       "            (drop): Identity()\n",
       "            (act): Identity()\n",
       "          )\n",
       "          (drop_path): Identity()\n",
       "        )\n",
       "        (4): InvertedResidual(\n",
       "          (conv_pw): Conv2d(136, 816, kernel_size=(1, 1), stride=(1, 1), bias=False)\n",
       "          (bn1): BatchNormAct2d(\n",
       "            816, eps=0.001, momentum=0.1, affine=True, track_running_stats=True\n",
       "            (drop): Identity()\n",
       "            (act): SiLU(inplace=True)\n",
       "          )\n",
       "          (conv_dw): Conv2d(816, 816, kernel_size=(5, 5), stride=(1, 1), padding=(2, 2), groups=816, bias=False)\n",
       "          (bn2): BatchNormAct2d(\n",
       "            816, eps=0.001, momentum=0.1, affine=True, track_running_stats=True\n",
       "            (drop): Identity()\n",
       "            (act): SiLU(inplace=True)\n",
       "          )\n",
       "          (se): SqueezeExcite(\n",
       "            (conv_reduce): Conv2d(816, 34, kernel_size=(1, 1), stride=(1, 1))\n",
       "            (act1): SiLU(inplace=True)\n",
       "            (conv_expand): Conv2d(34, 816, kernel_size=(1, 1), stride=(1, 1))\n",
       "            (gate): Sigmoid()\n",
       "          )\n",
       "          (conv_pwl): Conv2d(816, 136, kernel_size=(1, 1), stride=(1, 1), bias=False)\n",
       "          (bn3): BatchNormAct2d(\n",
       "            136, eps=0.001, momentum=0.1, affine=True, track_running_stats=True\n",
       "            (drop): Identity()\n",
       "            (act): Identity()\n",
       "          )\n",
       "          (drop_path): Identity()\n",
       "        )\n",
       "      )\n",
       "      (5): Sequential(\n",
       "        (0): InvertedResidual(\n",
       "          (conv_pw): Conv2d(136, 816, kernel_size=(1, 1), stride=(1, 1), bias=False)\n",
       "          (bn1): BatchNormAct2d(\n",
       "            816, eps=0.001, momentum=0.1, affine=True, track_running_stats=True\n",
       "            (drop): Identity()\n",
       "            (act): SiLU(inplace=True)\n",
       "          )\n",
       "          (conv_dw): Conv2dSame(816, 816, kernel_size=(5, 5), stride=(2, 2), groups=816, bias=False)\n",
       "          (bn2): BatchNormAct2d(\n",
       "            816, eps=0.001, momentum=0.1, affine=True, track_running_stats=True\n",
       "            (drop): Identity()\n",
       "            (act): SiLU(inplace=True)\n",
       "          )\n",
       "          (se): SqueezeExcite(\n",
       "            (conv_reduce): Conv2d(816, 34, kernel_size=(1, 1), stride=(1, 1))\n",
       "            (act1): SiLU(inplace=True)\n",
       "            (conv_expand): Conv2d(34, 816, kernel_size=(1, 1), stride=(1, 1))\n",
       "            (gate): Sigmoid()\n",
       "          )\n",
       "          (conv_pwl): Conv2d(816, 232, kernel_size=(1, 1), stride=(1, 1), bias=False)\n",
       "          (bn3): BatchNormAct2d(\n",
       "            232, eps=0.001, momentum=0.1, affine=True, track_running_stats=True\n",
       "            (drop): Identity()\n",
       "            (act): Identity()\n",
       "          )\n",
       "          (drop_path): Identity()\n",
       "        )\n",
       "        (1): InvertedResidual(\n",
       "          (conv_pw): Conv2d(232, 1392, kernel_size=(1, 1), stride=(1, 1), bias=False)\n",
       "          (bn1): BatchNormAct2d(\n",
       "            1392, eps=0.001, momentum=0.1, affine=True, track_running_stats=True\n",
       "            (drop): Identity()\n",
       "            (act): SiLU(inplace=True)\n",
       "          )\n",
       "          (conv_dw): Conv2d(1392, 1392, kernel_size=(5, 5), stride=(1, 1), padding=(2, 2), groups=1392, bias=False)\n",
       "          (bn2): BatchNormAct2d(\n",
       "            1392, eps=0.001, momentum=0.1, affine=True, track_running_stats=True\n",
       "            (drop): Identity()\n",
       "            (act): SiLU(inplace=True)\n",
       "          )\n",
       "          (se): SqueezeExcite(\n",
       "            (conv_reduce): Conv2d(1392, 58, kernel_size=(1, 1), stride=(1, 1))\n",
       "            (act1): SiLU(inplace=True)\n",
       "            (conv_expand): Conv2d(58, 1392, kernel_size=(1, 1), stride=(1, 1))\n",
       "            (gate): Sigmoid()\n",
       "          )\n",
       "          (conv_pwl): Conv2d(1392, 232, kernel_size=(1, 1), stride=(1, 1), bias=False)\n",
       "          (bn3): BatchNormAct2d(\n",
       "            232, eps=0.001, momentum=0.1, affine=True, track_running_stats=True\n",
       "            (drop): Identity()\n",
       "            (act): Identity()\n",
       "          )\n",
       "          (drop_path): Identity()\n",
       "        )\n",
       "        (2): InvertedResidual(\n",
       "          (conv_pw): Conv2d(232, 1392, kernel_size=(1, 1), stride=(1, 1), bias=False)\n",
       "          (bn1): BatchNormAct2d(\n",
       "            1392, eps=0.001, momentum=0.1, affine=True, track_running_stats=True\n",
       "            (drop): Identity()\n",
       "            (act): SiLU(inplace=True)\n",
       "          )\n",
       "          (conv_dw): Conv2d(1392, 1392, kernel_size=(5, 5), stride=(1, 1), padding=(2, 2), groups=1392, bias=False)\n",
       "          (bn2): BatchNormAct2d(\n",
       "            1392, eps=0.001, momentum=0.1, affine=True, track_running_stats=True\n",
       "            (drop): Identity()\n",
       "            (act): SiLU(inplace=True)\n",
       "          )\n",
       "          (se): SqueezeExcite(\n",
       "            (conv_reduce): Conv2d(1392, 58, kernel_size=(1, 1), stride=(1, 1))\n",
       "            (act1): SiLU(inplace=True)\n",
       "            (conv_expand): Conv2d(58, 1392, kernel_size=(1, 1), stride=(1, 1))\n",
       "            (gate): Sigmoid()\n",
       "          )\n",
       "          (conv_pwl): Conv2d(1392, 232, kernel_size=(1, 1), stride=(1, 1), bias=False)\n",
       "          (bn3): BatchNormAct2d(\n",
       "            232, eps=0.001, momentum=0.1, affine=True, track_running_stats=True\n",
       "            (drop): Identity()\n",
       "            (act): Identity()\n",
       "          )\n",
       "          (drop_path): Identity()\n",
       "        )\n",
       "        (3): InvertedResidual(\n",
       "          (conv_pw): Conv2d(232, 1392, kernel_size=(1, 1), stride=(1, 1), bias=False)\n",
       "          (bn1): BatchNormAct2d(\n",
       "            1392, eps=0.001, momentum=0.1, affine=True, track_running_stats=True\n",
       "            (drop): Identity()\n",
       "            (act): SiLU(inplace=True)\n",
       "          )\n",
       "          (conv_dw): Conv2d(1392, 1392, kernel_size=(5, 5), stride=(1, 1), padding=(2, 2), groups=1392, bias=False)\n",
       "          (bn2): BatchNormAct2d(\n",
       "            1392, eps=0.001, momentum=0.1, affine=True, track_running_stats=True\n",
       "            (drop): Identity()\n",
       "            (act): SiLU(inplace=True)\n",
       "          )\n",
       "          (se): SqueezeExcite(\n",
       "            (conv_reduce): Conv2d(1392, 58, kernel_size=(1, 1), stride=(1, 1))\n",
       "            (act1): SiLU(inplace=True)\n",
       "            (conv_expand): Conv2d(58, 1392, kernel_size=(1, 1), stride=(1, 1))\n",
       "            (gate): Sigmoid()\n",
       "          )\n",
       "          (conv_pwl): Conv2d(1392, 232, kernel_size=(1, 1), stride=(1, 1), bias=False)\n",
       "          (bn3): BatchNormAct2d(\n",
       "            232, eps=0.001, momentum=0.1, affine=True, track_running_stats=True\n",
       "            (drop): Identity()\n",
       "            (act): Identity()\n",
       "          )\n",
       "          (drop_path): Identity()\n",
       "        )\n",
       "        (4): InvertedResidual(\n",
       "          (conv_pw): Conv2d(232, 1392, kernel_size=(1, 1), stride=(1, 1), bias=False)\n",
       "          (bn1): BatchNormAct2d(\n",
       "            1392, eps=0.001, momentum=0.1, affine=True, track_running_stats=True\n",
       "            (drop): Identity()\n",
       "            (act): SiLU(inplace=True)\n",
       "          )\n",
       "          (conv_dw): Conv2d(1392, 1392, kernel_size=(5, 5), stride=(1, 1), padding=(2, 2), groups=1392, bias=False)\n",
       "          (bn2): BatchNormAct2d(\n",
       "            1392, eps=0.001, momentum=0.1, affine=True, track_running_stats=True\n",
       "            (drop): Identity()\n",
       "            (act): SiLU(inplace=True)\n",
       "          )\n",
       "          (se): SqueezeExcite(\n",
       "            (conv_reduce): Conv2d(1392, 58, kernel_size=(1, 1), stride=(1, 1))\n",
       "            (act1): SiLU(inplace=True)\n",
       "            (conv_expand): Conv2d(58, 1392, kernel_size=(1, 1), stride=(1, 1))\n",
       "            (gate): Sigmoid()\n",
       "          )\n",
       "          (conv_pwl): Conv2d(1392, 232, kernel_size=(1, 1), stride=(1, 1), bias=False)\n",
       "          (bn3): BatchNormAct2d(\n",
       "            232, eps=0.001, momentum=0.1, affine=True, track_running_stats=True\n",
       "            (drop): Identity()\n",
       "            (act): Identity()\n",
       "          )\n",
       "          (drop_path): Identity()\n",
       "        )\n",
       "        (5): InvertedResidual(\n",
       "          (conv_pw): Conv2d(232, 1392, kernel_size=(1, 1), stride=(1, 1), bias=False)\n",
       "          (bn1): BatchNormAct2d(\n",
       "            1392, eps=0.001, momentum=0.1, affine=True, track_running_stats=True\n",
       "            (drop): Identity()\n",
       "            (act): SiLU(inplace=True)\n",
       "          )\n",
       "          (conv_dw): Conv2d(1392, 1392, kernel_size=(5, 5), stride=(1, 1), padding=(2, 2), groups=1392, bias=False)\n",
       "          (bn2): BatchNormAct2d(\n",
       "            1392, eps=0.001, momentum=0.1, affine=True, track_running_stats=True\n",
       "            (drop): Identity()\n",
       "            (act): SiLU(inplace=True)\n",
       "          )\n",
       "          (se): SqueezeExcite(\n",
       "            (conv_reduce): Conv2d(1392, 58, kernel_size=(1, 1), stride=(1, 1))\n",
       "            (act1): SiLU(inplace=True)\n",
       "            (conv_expand): Conv2d(58, 1392, kernel_size=(1, 1), stride=(1, 1))\n",
       "            (gate): Sigmoid()\n",
       "          )\n",
       "          (conv_pwl): Conv2d(1392, 232, kernel_size=(1, 1), stride=(1, 1), bias=False)\n",
       "          (bn3): BatchNormAct2d(\n",
       "            232, eps=0.001, momentum=0.1, affine=True, track_running_stats=True\n",
       "            (drop): Identity()\n",
       "            (act): Identity()\n",
       "          )\n",
       "          (drop_path): Identity()\n",
       "        )\n",
       "      )\n",
       "      (6): Sequential(\n",
       "        (0): InvertedResidual(\n",
       "          (conv_pw): Conv2d(232, 1392, kernel_size=(1, 1), stride=(1, 1), bias=False)\n",
       "          (bn1): BatchNormAct2d(\n",
       "            1392, eps=0.001, momentum=0.1, affine=True, track_running_stats=True\n",
       "            (drop): Identity()\n",
       "            (act): SiLU(inplace=True)\n",
       "          )\n",
       "          (conv_dw): Conv2d(1392, 1392, kernel_size=(3, 3), stride=(1, 1), padding=(1, 1), groups=1392, bias=False)\n",
       "          (bn2): BatchNormAct2d(\n",
       "            1392, eps=0.001, momentum=0.1, affine=True, track_running_stats=True\n",
       "            (drop): Identity()\n",
       "            (act): SiLU(inplace=True)\n",
       "          )\n",
       "          (se): SqueezeExcite(\n",
       "            (conv_reduce): Conv2d(1392, 58, kernel_size=(1, 1), stride=(1, 1))\n",
       "            (act1): SiLU(inplace=True)\n",
       "            (conv_expand): Conv2d(58, 1392, kernel_size=(1, 1), stride=(1, 1))\n",
       "            (gate): Sigmoid()\n",
       "          )\n",
       "          (conv_pwl): Conv2d(1392, 384, kernel_size=(1, 1), stride=(1, 1), bias=False)\n",
       "          (bn3): BatchNormAct2d(\n",
       "            384, eps=0.001, momentum=0.1, affine=True, track_running_stats=True\n",
       "            (drop): Identity()\n",
       "            (act): Identity()\n",
       "          )\n",
       "          (drop_path): Identity()\n",
       "        )\n",
       "        (1): InvertedResidual(\n",
       "          (conv_pw): Conv2d(384, 2304, kernel_size=(1, 1), stride=(1, 1), bias=False)\n",
       "          (bn1): BatchNormAct2d(\n",
       "            2304, eps=0.001, momentum=0.1, affine=True, track_running_stats=True\n",
       "            (drop): Identity()\n",
       "            (act): SiLU(inplace=True)\n",
       "          )\n",
       "          (conv_dw): Conv2d(2304, 2304, kernel_size=(3, 3), stride=(1, 1), padding=(1, 1), groups=2304, bias=False)\n",
       "          (bn2): BatchNormAct2d(\n",
       "            2304, eps=0.001, momentum=0.1, affine=True, track_running_stats=True\n",
       "            (drop): Identity()\n",
       "            (act): SiLU(inplace=True)\n",
       "          )\n",
       "          (se): SqueezeExcite(\n",
       "            (conv_reduce): Conv2d(2304, 96, kernel_size=(1, 1), stride=(1, 1))\n",
       "            (act1): SiLU(inplace=True)\n",
       "            (conv_expand): Conv2d(96, 2304, kernel_size=(1, 1), stride=(1, 1))\n",
       "            (gate): Sigmoid()\n",
       "          )\n",
       "          (conv_pwl): Conv2d(2304, 384, kernel_size=(1, 1), stride=(1, 1), bias=False)\n",
       "          (bn3): BatchNormAct2d(\n",
       "            384, eps=0.001, momentum=0.1, affine=True, track_running_stats=True\n",
       "            (drop): Identity()\n",
       "            (act): Identity()\n",
       "          )\n",
       "          (drop_path): Identity()\n",
       "        )\n",
       "      )\n",
       "    )\n",
       "    (conv_head): Conv2d(384, 1536, kernel_size=(1, 1), stride=(1, 1), bias=False)\n",
       "    (bn2): BatchNormAct2d(\n",
       "      1536, eps=0.001, momentum=0.1, affine=True, track_running_stats=True\n",
       "      (drop): Identity()\n",
       "      (act): SiLU(inplace=True)\n",
       "    )\n",
       "    (global_pool): SelectAdaptivePool2d (pool_type=avg, flatten=Flatten(start_dim=1, end_dim=-1))\n",
       "    (classifier): Sequential(\n",
       "      (0): Linear(in_features=1536, out_features=264, bias=True)\n",
       "    )\n",
       "  )\n",
       ")"
      ]
     },
     "execution_count": 20,
     "metadata": {},
     "output_type": "execute_result"
    }
   ],
   "source": [
    "model = BirdModel()\n",
    "model.to(device)"
   ]
  },
  {
   "cell_type": "markdown",
   "metadata": {},
   "source": [
    "### Training"
   ]
  },
  {
   "attachments": {},
   "cell_type": "markdown",
   "metadata": {},
   "source": [
    "training is done on `train_model.py` because of the training time."
   ]
  },
  {
   "cell_type": "code",
   "execution_count": 21,
   "metadata": {},
   "outputs": [],
   "source": [
    "from tqdm.auto import tqdm\n",
    "\n",
    "EPOCHS = 10\n",
    "BEST_MODEL_PATH = os.path.join(\"..\", \"model\", \"best_bird_model.pth\")\n",
    "\n",
    "# parameters\n",
    "optimizer = optim.AdamW(model.parameters(), lr=1e-3)\n",
    "scheduler = optim.lr_scheduler.CosineAnnealingLR(optimizer,\n",
    "                              T_max = 100,\n",
    "                              eta_min = 1e-5) \n",
    "criterion = nn.CrossEntropyLoss()\n",
    "\n",
    "# history\n",
    "train_loss_history, val_loss_history = [], []\n",
    "train_accuracy_history, val_accuracy_history = [], []\n",
    "best_accuracy = 0.0\n",
    "\n",
    "# train\n",
    "model.train()\n",
    "\n",
    "for _ in tqdm(range(EPOCHS+1), total=EPOCHS, desc='Epochs'):\n",
    "    train_loss = 0.0\n",
    "    train_error_count = 0.0\n",
    "    \n",
    "    for data in train_loader:\n",
    "        optimizer.zero_grad()\n",
    "        X = data['image'].to(device)\n",
    "        y = data['label'].to(device)\n",
    "\n",
    "        outputs = model(X)\n",
    "\n",
    "        loss = criterion(outputs, y)\n",
    "        train_loss += loss.item()\n",
    "        train_error_count += (outputs.argmax(1) != y.argmax(1)).sum().item()\n",
    "        loss.backward()\n",
    "        optimizer.step()\n",
    "    \n",
    "    train_loss /= len(train_loader)\n",
    "    val_loss = 0.0\n",
    "    val_error_count = 0.0\n",
    "\n",
    "    for data in val_loader:\n",
    "        X = data['image'].to(device)\n",
    "        y = data['label'].to(device)\n",
    "\n",
    "        outputs = model(X)\n",
    "    \n",
    "        loss = criterion(outputs, y)\n",
    "        val_loss += loss.item()\n",
    "        val_error_count += (outputs.argmax(1) != y.argmax(1)).sum().item()\n",
    "\n",
    "    val_loss /= len(val_loader)\n",
    "\n",
    "    train_accuracy = 1.0 - float(train_error_count) / len(train_dataset)\n",
    "    val_accuracy = 1.0 - float(val_error_count) / len(val_dataset)\n",
    "\n",
    "    train_loss_history.append(train_loss)\n",
    "    train_accuracy_history.append(train_accuracy)\n",
    "\n",
    "    val_loss_history.append(val_loss)\n",
    "    val_accuracy_history.append(val_accuracy)\n",
    "\n",
    "    # save best model\n",
    "    if val_accuracy > best_accuracy:\n",
    "        torch.save(model.state_dict(), BEST_MODEL_PATH)\n",
    "        best_accuracy = val_accuracy"
   ]
  },
  {
   "cell_type": "markdown",
   "metadata": {},
   "source": [
    "### Results"
   ]
  },
  {
   "attachments": {},
   "cell_type": "markdown",
   "metadata": {},
   "source": [
    "made in `train_model.py`"
   ]
  },
  {
   "cell_type": "code",
   "execution_count": 22,
   "metadata": {},
   "outputs": [],
   "source": [
    "fig, (ax1, ax2) = plt.subplots(1, 2, figsize=(20, 10))\n",
    "\n",
    "ax1.plot(train_loss_history, label='train')\n",
    "ax1.plot(val_loss_history, label='val')\n",
    "ax1.set_title('Loss history')\n",
    "ax1.legend()\n",
    "\n",
    "ax2.plot(train_accuracy_history, label='train')\n",
    "ax2.plot(val_accuracy_history, label='val')\n",
    "ax2.set_title('Accuracy history')\n",
    "ax2.legend()\n",
    "plt.savefig(os.path.join('assets','history.png'))\n",
    "plt.show()"
   ]
  },
  {
   "attachments": {},
   "cell_type": "markdown",
   "metadata": {},
   "source": [
    "![loss](./assets/history.png)"
   ]
  },
  {
   "cell_type": "markdown",
   "metadata": {},
   "source": [
    "### Metrics final model"
   ]
  },
  {
   "attachments": {},
   "cell_type": "markdown",
   "metadata": {},
   "source": [
    "made in `train_model.py`"
   ]
  },
  {
   "cell_type": "code",
   "execution_count": 23,
   "metadata": {},
   "outputs": [],
   "source": [
    "model = BirdModel(pretrained=False)\n",
    "model.load_state_dict(torch.load(BEST_MODEL_PATH))\n",
    "model.to(device)\n",
    "model.eval()\n",
    "\n",
    "y_pred = []\n",
    "y_true = []\n",
    "\n",
    "with torch.no_grad():\n",
    "    for data in val_loader:\n",
    "\n",
    "        X = data[\"image\"].to(device)\n",
    "        y = data[\"label\"]\n",
    "\n",
    "        outputs = model(X)\n",
    "\n",
    "        y_true.extend(torch.argmax(outputs, dim=1).detach().cpu().numpy())\n",
    "        y_pred.extend(torch.argmax(y, dim=1).numpy())"
   ]
  },
  {
   "cell_type": "code",
   "execution_count": 27,
   "metadata": {},
   "outputs": [
    {
     "name": "stdout",
     "output_type": "stream",
     "text": [
      "Accuracy: 0.7669772256728778\n",
      "F1: 0.7621182691124213\n",
      "Precision: 0.741745115135625\n",
      "Recall: 0.8024357114989734\n",
      "\n"
     ]
    }
   ],
   "source": [
    "with open(os.path.join('assets',\"metrics.txt\"), 'r') as f:\n",
    "    metrics = f.read()\n",
    "    print(metrics)"
   ]
  }
 ],
 "metadata": {
  "kernelspec": {
   "display_name": "Python 3",
   "language": "python",
   "name": "python3"
  },
  "language_info": {
   "codemirror_mode": {
    "name": "ipython",
    "version": 3
   },
   "file_extension": ".py",
   "mimetype": "text/x-python",
   "name": "python",
   "nbconvert_exporter": "python",
   "pygments_lexer": "ipython3",
   "version": "3.10.6"
  }
 },
 "nbformat": 4,
 "nbformat_minor": 4
}
